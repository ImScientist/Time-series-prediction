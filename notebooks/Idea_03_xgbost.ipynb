{
 "cells": [
  {
   "cell_type": "code",
   "execution_count": 1,
   "metadata": {},
   "outputs": [],
   "source": [
    "import os\n",
    "import numpy as np\n",
    "import pandas as pd\n",
    "import datetime \n",
    "\n",
    "pd.set_option('display.max_columns', 100)"
   ]
  },
  {
   "cell_type": "code",
   "execution_count": 2,
   "metadata": {},
   "outputs": [],
   "source": [
    "os.chdir('..')"
   ]
  },
  {
   "cell_type": "code",
   "execution_count": 3,
   "metadata": {},
   "outputs": [
    {
     "data": {
      "text/plain": [
       "'/Users/A.IVA/Documents/jupyter_notebooks/coursera_and_blogs/rossmann_competition'"
      ]
     },
     "execution_count": 3,
     "metadata": {},
     "output_type": "execute_result"
    }
   ],
   "source": [
    "pwd"
   ]
  },
  {
   "cell_type": "markdown",
   "metadata": {},
   "source": [
    "### Load data and generate new features"
   ]
  },
  {
   "cell_type": "code",
   "execution_count": 4,
   "metadata": {},
   "outputs": [],
   "source": [
    "from rossmann.preprocess import load_and_preprocess\n",
    "from rossmann.feature_generator import promo2_running, dt_since_last_promo, dt_since_first_promo2"
   ]
  },
  {
   "cell_type": "code",
   "execution_count": 19,
   "metadata": {},
   "outputs": [
    {
     "data": {
      "text/html": [
       "<div>\n",
       "<style scoped>\n",
       "    .dataframe tbody tr th:only-of-type {\n",
       "        vertical-align: middle;\n",
       "    }\n",
       "\n",
       "    .dataframe tbody tr th {\n",
       "        vertical-align: top;\n",
       "    }\n",
       "\n",
       "    .dataframe thead th {\n",
       "        text-align: right;\n",
       "    }\n",
       "</style>\n",
       "<table border=\"1\" class=\"dataframe\">\n",
       "  <thead>\n",
       "    <tr style=\"text-align: right;\">\n",
       "      <th></th>\n",
       "      <th>Store</th>\n",
       "      <th>DayOfWeek</th>\n",
       "      <th>Date</th>\n",
       "      <th>Sales</th>\n",
       "      <th>Customers</th>\n",
       "      <th>Open</th>\n",
       "      <th>Promo</th>\n",
       "      <th>StateHoliday</th>\n",
       "      <th>SchoolHoliday</th>\n",
       "      <th>Id</th>\n",
       "      <th>StoreType</th>\n",
       "      <th>Assortment</th>\n",
       "      <th>CompetitionDistance</th>\n",
       "      <th>competition_since</th>\n",
       "      <th>promos2</th>\n",
       "    </tr>\n",
       "  </thead>\n",
       "  <tbody>\n",
       "    <tr>\n",
       "      <th>0</th>\n",
       "      <td>1</td>\n",
       "      <td>2</td>\n",
       "      <td>2013-01-01</td>\n",
       "      <td>0.0</td>\n",
       "      <td>0.0</td>\n",
       "      <td>0.0</td>\n",
       "      <td>0</td>\n",
       "      <td>a</td>\n",
       "      <td>1</td>\n",
       "      <td>NaN</td>\n",
       "      <td>c</td>\n",
       "      <td>a</td>\n",
       "      <td>1270.0</td>\n",
       "      <td>2008-09-01</td>\n",
       "      <td>None</td>\n",
       "    </tr>\n",
       "    <tr>\n",
       "      <th>1</th>\n",
       "      <td>1</td>\n",
       "      <td>3</td>\n",
       "      <td>2013-01-02</td>\n",
       "      <td>5530.0</td>\n",
       "      <td>668.0</td>\n",
       "      <td>1.0</td>\n",
       "      <td>0</td>\n",
       "      <td>0</td>\n",
       "      <td>1</td>\n",
       "      <td>NaN</td>\n",
       "      <td>c</td>\n",
       "      <td>a</td>\n",
       "      <td>1270.0</td>\n",
       "      <td>2008-09-01</td>\n",
       "      <td>None</td>\n",
       "    </tr>\n",
       "  </tbody>\n",
       "</table>\n",
       "</div>"
      ],
      "text/plain": [
       "   Store  DayOfWeek       Date   Sales  Customers  Open  Promo StateHoliday  \\\n",
       "0      1          2 2013-01-01     0.0        0.0   0.0      0            a   \n",
       "1      1          3 2013-01-02  5530.0      668.0   1.0      0            0   \n",
       "\n",
       "   SchoolHoliday  Id StoreType Assortment  CompetitionDistance  \\\n",
       "0              1 NaN         c          a               1270.0   \n",
       "1              1 NaN         c          a               1270.0   \n",
       "\n",
       "  competition_since promos2  \n",
       "0        2008-09-01    None  \n",
       "1        2008-09-01    None  "
      ]
     },
     "execution_count": 19,
     "metadata": {},
     "output_type": "execute_result"
    }
   ],
   "source": [
    "data_dir = os.path.join('..', 'data', 'rossmann-store-sales', 'source')\n",
    "df = load_and_preprocess(data_dir)\n",
    "\n",
    "df.head(2)"
   ]
  },
  {
   "cell_type": "code",
   "execution_count": 21,
   "metadata": {},
   "outputs": [],
   "source": [
    "df['dt_since_last_promo2']  = df[['Date', 'promos2']].apply(lambda x: dt_since_last_promo(x[0], x[1]), 1)\n",
    "df['dt_since_first_promo2'] = df[['Date', 'promos2']].apply(lambda x: dt_since_first_promo2(x[0], x[1]), 1)\n",
    "\n",
    "# I will drop the `Date` column and use this column as my the trend generator\n",
    "df['days_since_start'] = df['Date'].apply(lambda x: (x - datetime.datetime(2013, 1, 1)).days)\n",
    "\n",
    "df['days_left_yr'] = df['Date'].apply(lambda x: (datetime.datetime(x.year, 12, 31) - x).days)\n",
    "df['days_since_yr'] = df['Date'].apply(lambda x: (x - datetime.datetime(x.year, 1, 1)).days)\n",
    "\n",
    "df['weeks_left_yr'] = df['days_left_yr'] // 7\n",
    "df['weeks_since_yr'] = df['days_since_yr'] // 7\n",
    "\n",
    "# two options for 'competition_since'\n",
    "# competition already here (binary) or days since competition is here (continuous variable)\n",
    "# df['last_competitor_here'] = (df['competition_since'] <= df['Date']).astype(int)\n",
    "df['competition_since_days'] = df['Date'] - df['competition_since']\n",
    "df['competition_since_days'] = df['competition_since_days'].apply(lambda x: x.days)\n",
    "\n",
    "df['CompetitionDistance'] = df['CompetitionDistance'].fillna(100000).astype(int)"
   ]
  },
  {
   "cell_type": "code",
   "execution_count": 22,
   "metadata": {},
   "outputs": [],
   "source": [
    "mappings = {'0':0, 'a':1, 'b':2, 'c':3, 'd':4}\n",
    "df['StateHoliday'] = df['StateHoliday'].replace(mappings).astype(int)\n",
    "df['Assortment'] = df['Assortment'].replace(mappings).astype(int)\n",
    "df['StoreType'] = df['StoreType'].replace(mappings).astype(int)\n",
    "\n",
    "# df = pd.concat([df.drop(['StateHoliday'], 1),\n",
    "#                 pd.get_dummies(df['StateHoliday'], prefix='state_hol_')], axis=1, sort=False)\n",
    "\n",
    "# df = pd.concat([df.drop(['Assortment'], 1),\n",
    "#                 pd.get_dummies(df['Assortment'], prefix='assortment_')], axis=1, sort=False)\n",
    "\n",
    "# df = pd.concat([df.drop(['StoreType'], 1),\n",
    "#                 pd.get_dummies(df['StoreType'], prefix='store_type_')], axis=1, sort=False)\n"
   ]
  },
  {
   "cell_type": "code",
   "execution_count": 38,
   "metadata": {},
   "outputs": [
    {
     "data": {
      "text/html": [
       "<div>\n",
       "<style scoped>\n",
       "    .dataframe tbody tr th:only-of-type {\n",
       "        vertical-align: middle;\n",
       "    }\n",
       "\n",
       "    .dataframe tbody tr th {\n",
       "        vertical-align: top;\n",
       "    }\n",
       "\n",
       "    .dataframe thead th {\n",
       "        text-align: right;\n",
       "    }\n",
       "</style>\n",
       "<table border=\"1\" class=\"dataframe\">\n",
       "  <thead>\n",
       "    <tr style=\"text-align: right;\">\n",
       "      <th></th>\n",
       "      <th>Store</th>\n",
       "      <th>DayOfWeek</th>\n",
       "      <th>Date</th>\n",
       "      <th>Sales</th>\n",
       "      <th>Customers</th>\n",
       "      <th>Open</th>\n",
       "      <th>Promo</th>\n",
       "      <th>StateHoliday</th>\n",
       "      <th>SchoolHoliday</th>\n",
       "      <th>Id</th>\n",
       "      <th>StoreType</th>\n",
       "      <th>Assortment</th>\n",
       "      <th>CompetitionDistance</th>\n",
       "      <th>competition_since</th>\n",
       "      <th>promos2</th>\n",
       "      <th>dt_since_last_promo2</th>\n",
       "      <th>dt_since_first_promo2</th>\n",
       "      <th>days_since_start</th>\n",
       "      <th>days_left_yr</th>\n",
       "      <th>days_since_yr</th>\n",
       "      <th>weeks_left_yr</th>\n",
       "      <th>weeks_since_yr</th>\n",
       "      <th>competition_since_days</th>\n",
       "    </tr>\n",
       "  </thead>\n",
       "  <tbody>\n",
       "    <tr>\n",
       "      <th>0</th>\n",
       "      <td>1</td>\n",
       "      <td>2</td>\n",
       "      <td>2013-01-01</td>\n",
       "      <td>0.0</td>\n",
       "      <td>0.0</td>\n",
       "      <td>0.0</td>\n",
       "      <td>0</td>\n",
       "      <td>1</td>\n",
       "      <td>1</td>\n",
       "      <td>NaN</td>\n",
       "      <td>3</td>\n",
       "      <td>1</td>\n",
       "      <td>1270</td>\n",
       "      <td>2008-09-01</td>\n",
       "      <td>None</td>\n",
       "      <td>-360</td>\n",
       "      <td>-2556</td>\n",
       "      <td>0</td>\n",
       "      <td>364</td>\n",
       "      <td>0</td>\n",
       "      <td>52</td>\n",
       "      <td>0</td>\n",
       "      <td>1583</td>\n",
       "    </tr>\n",
       "    <tr>\n",
       "      <th>1</th>\n",
       "      <td>1</td>\n",
       "      <td>3</td>\n",
       "      <td>2013-01-02</td>\n",
       "      <td>5530.0</td>\n",
       "      <td>668.0</td>\n",
       "      <td>1.0</td>\n",
       "      <td>0</td>\n",
       "      <td>0</td>\n",
       "      <td>1</td>\n",
       "      <td>NaN</td>\n",
       "      <td>3</td>\n",
       "      <td>1</td>\n",
       "      <td>1270</td>\n",
       "      <td>2008-09-01</td>\n",
       "      <td>None</td>\n",
       "      <td>-360</td>\n",
       "      <td>-2555</td>\n",
       "      <td>1</td>\n",
       "      <td>363</td>\n",
       "      <td>1</td>\n",
       "      <td>51</td>\n",
       "      <td>0</td>\n",
       "      <td>1584</td>\n",
       "    </tr>\n",
       "  </tbody>\n",
       "</table>\n",
       "</div>"
      ],
      "text/plain": [
       "   Store  DayOfWeek       Date   Sales  Customers  Open  Promo StateHoliday  \\\n",
       "0      1          2 2013-01-01     0.0        0.0   0.0      0            1   \n",
       "1      1          3 2013-01-02  5530.0      668.0   1.0      0            0   \n",
       "\n",
       "   SchoolHoliday  Id  StoreType Assortment  CompetitionDistance  \\\n",
       "0              1 NaN          3          1                 1270   \n",
       "1              1 NaN          3          1                 1270   \n",
       "\n",
       "  competition_since promos2  dt_since_last_promo2  dt_since_first_promo2  \\\n",
       "0        2008-09-01    None                  -360                  -2556   \n",
       "1        2008-09-01    None                  -360                  -2555   \n",
       "\n",
       "   days_since_start  days_left_yr  days_since_yr  weeks_left_yr  \\\n",
       "0                 0           364              0             52   \n",
       "1                 1           363              1             51   \n",
       "\n",
       "   weeks_since_yr  competition_since_days  \n",
       "0               0                    1583  \n",
       "1               0                    1584  "
      ]
     },
     "execution_count": 38,
     "metadata": {},
     "output_type": "execute_result"
    }
   ],
   "source": [
    "df.head(2)"
   ]
  },
  {
   "cell_type": "code",
   "execution_count": 39,
   "metadata": {},
   "outputs": [],
   "source": [
    "feature_pairs=[\n",
    "    ('Store', 'int'),\n",
    "            \n",
    "    ('DayOfWeek', 'int'),\n",
    "    ('days_since_start', 'q'),\n",
    "    ('days_since_yr', 'q'),\n",
    "    ('weeks_since_yr', 'q'),\n",
    "\n",
    "    ('days_left_yr', 'q'),\n",
    "    ('weeks_left_yr', 'q'),\n",
    "\n",
    "    ('Promo', 'i'),\n",
    "    ('dt_since_last_promo2', 'q'),\n",
    "    ('dt_since_first_promo2', 'q'),\n",
    "\n",
    "    #     ('state_hol__0', 'i'), ('state_hol__a', 'i'), ('state_hol__b', 'i'), ('state_hol__c', 'i'), # 'StateHoliday',\n",
    "    ('StateHoliday', 'int'),\n",
    "    ('SchoolHoliday', 'i'),\n",
    "\n",
    "    #     ('store_type__a', 'i'), ('store_type__b', 'i'), ('store_type__c', 'i'), ('store_type__d', 'i'), # 'StoreType',\n",
    "    #     ('assortment__a', 'i'), ('assortment__b', 'i'), ('assortment__c', 'i'), # 'Assortment',\n",
    "    ('StoreType', 'int'),\n",
    "    ('Assortment', 'int'),\n",
    "\n",
    "    ('CompetitionDistance', 'q'),\n",
    "    ('competition_since_days', 'q')\n",
    "]\n",
    "\n",
    "features = list(map(lambda x: x[0], feature_pairs))\n",
    "feature_types = list(map(lambda x: x[1], feature_pairs))"
   ]
  },
  {
   "cell_type": "code",
   "execution_count": 44,
   "metadata": {},
   "outputs": [
    {
     "data": {
      "text/plain": [
       "Store                     int64\n",
       "DayOfWeek                 int64\n",
       "days_since_start          int64\n",
       "days_since_yr             int64\n",
       "weeks_since_yr            int64\n",
       "days_left_yr              int64\n",
       "weeks_left_yr             int64\n",
       "Promo                     int64\n",
       "dt_since_last_promo2      int64\n",
       "dt_since_first_promo2     int64\n",
       "StateHoliday              int64\n",
       "SchoolHoliday             int64\n",
       "StoreType                 int64\n",
       "Assortment                int64\n",
       "CompetitionDistance       int64\n",
       "competition_since_days    int64\n",
       "dtype: object"
      ]
     },
     "execution_count": 44,
     "metadata": {},
     "output_type": "execute_result"
    }
   ],
   "source": [
    "df[features].dtypes"
   ]
  },
  {
   "cell_type": "code",
   "execution_count": 11,
   "metadata": {
    "code_folding": []
   },
   "outputs": [],
   "source": [
    "#\n",
    "# Prediction\n",
    "#\n",
    "\n",
    "# n_stores = 4\n",
    "# start = time.time()\n",
    "\n",
    "# We can immediately predict the 'Sales' if the store is closed.\n",
    "# df['Sales'] = df[['Open', 'Sales']].apply(lambda x: 0 if x[0] == 0 else x[1], 1)\n",
    "\n",
    "# Instead of predicting Sales we could predict log(Sales + 1)\n",
    "# df['Sales_log1p'] = np.log1p(df['Sales'])\n",
    "\n",
    "# df['Sales_log'] = np.log(df['Sales'])\n",
    "\n",
    "\n",
    "# get the indices of all stores\n",
    "# all_stores = list(df['Store'].drop_duplicates().values)\n",
    "# if n_stores is not None:\n",
    "#     all_stores = all_stores[:n_stores]"
   ]
  },
  {
   "cell_type": "code",
   "execution_count": 45,
   "metadata": {},
   "outputs": [],
   "source": [
    "import xgboost as xgb\n",
    "from time import time"
   ]
  },
  {
   "cell_type": "code",
   "execution_count": 51,
   "metadata": {},
   "outputs": [],
   "source": [
    "params = {\n",
    "    \"objective\": \"reg:squarederror\", # reg:squarederror for regression problems, reg:logistic for classification problems with only decision, binary:logistic classification problems with probability \n",
    "    \"booster\" : \"gbtree\", # All you have to do is set the booster parameter to either gbtree (default), gblinear or dart.\n",
    "    \"eta\": 0.05,\n",
    "    \"max_depth\": 10,\n",
    "    # \"min_child_weight\"\n",
    "    # \"max_delta_step\" # Maximum delta step we allow each leaf output to be\n",
    "    # \"scale_pos_weight\" # Control the balance of positive and negative weights, useful for unbalanced classes. A typical value to consider: sum(negative instances) / sum(positive instances)\n",
    "    # \"updater\" [default= grow_colmaker,prune]\n",
    "    # \"max_bin\", [default=256] # Maximum number of discrete bins to bucket continuous features. Only used if tree_method is set to hist.\n",
    "    # \"max_leaves\" [default=0] # Maximum number of nodes to be added. Only relevant when grow_policy=lossguide is set\n",
    "    \"subsample\": 0.8, # Subsample ratio of the training instances\n",
    "    \"colsample_bytree\": 0.7,\n",
    "    \"verbosity\": 1,\n",
    "    \"nthread\": 2,\n",
    "    \"seed\": 10\n",
    "    }\n",
    "\n",
    "# gamma: controls whether a given node will split based on the expected reduction in loss after the split. A higher value leads to fewer splits. Supported only for tree-based learners.\n",
    "# alpha: L1 regularization on leaf weights. A large value leads to more regularization.\n",
    "# lambda: L2 regularization on leaf weights and is smoother than L1 regularization.\n",
    "\n",
    "# XGBoost's relatively less popular linear base learners and one other tree learner known as dart. \n",
    "# All you have to do is set the booster parameter to either gbtree (default), gblinear or dart.\n",
    "\n",
    "# n_estimators = number of trees to build\n",
    "\n",
    "# xg_reg = xgb.XGBRegressor(objective ='reg:linear', colsample_bytree = 0.3, learning_rate = 0.1,\n",
    "#                 max_depth = 5, alpha = 10, n_estimators = 10)\n",
    "\n"
   ]
  },
  {
   "cell_type": "code",
   "execution_count": 52,
   "metadata": {},
   "outputs": [],
   "source": [
    "# train and validation splitting\n",
    "# Training for the time period [2013/01/01, 2015/03/31]\n",
    "# Validation for the time period [2015/04/01, 2015/07/31]\n",
    "\n",
    "t1, t2 = datetime.datetime(2015, 4, 1), datetime.datetime(2015, 7, 31)\n",
    "\n",
    "df_tr = df[(df['Date'] < t1) & (df['Open'] == 1)].copy(deep=True)\n",
    "df_va = df[(df['Date'].between(t1, t2, inclusive=True)) & (df['Open'] == 1)].copy(deep=True)\n",
    "df_te = df[df['Date'] > t2].copy(deep=True)\n"
   ]
  },
  {
   "cell_type": "code",
   "execution_count": 53,
   "metadata": {},
   "outputs": [
    {
     "data": {
      "text/html": [
       "<div>\n",
       "<style scoped>\n",
       "    .dataframe tbody tr th:only-of-type {\n",
       "        vertical-align: middle;\n",
       "    }\n",
       "\n",
       "    .dataframe tbody tr th {\n",
       "        vertical-align: top;\n",
       "    }\n",
       "\n",
       "    .dataframe thead th {\n",
       "        text-align: right;\n",
       "    }\n",
       "</style>\n",
       "<table border=\"1\" class=\"dataframe\">\n",
       "  <thead>\n",
       "    <tr style=\"text-align: right;\">\n",
       "      <th></th>\n",
       "      <th>Store</th>\n",
       "      <th>DayOfWeek</th>\n",
       "      <th>days_since_start</th>\n",
       "      <th>days_since_yr</th>\n",
       "      <th>weeks_since_yr</th>\n",
       "      <th>days_left_yr</th>\n",
       "      <th>weeks_left_yr</th>\n",
       "      <th>Promo</th>\n",
       "      <th>dt_since_last_promo2</th>\n",
       "      <th>dt_since_first_promo2</th>\n",
       "      <th>StateHoliday</th>\n",
       "      <th>SchoolHoliday</th>\n",
       "      <th>StoreType</th>\n",
       "      <th>Assortment</th>\n",
       "      <th>CompetitionDistance</th>\n",
       "      <th>competition_since_days</th>\n",
       "    </tr>\n",
       "  </thead>\n",
       "  <tbody>\n",
       "    <tr>\n",
       "      <th>1</th>\n",
       "      <td>1</td>\n",
       "      <td>3</td>\n",
       "      <td>1</td>\n",
       "      <td>1</td>\n",
       "      <td>0</td>\n",
       "      <td>363</td>\n",
       "      <td>51</td>\n",
       "      <td>0</td>\n",
       "      <td>-360</td>\n",
       "      <td>-2555</td>\n",
       "      <td>0</td>\n",
       "      <td>1</td>\n",
       "      <td>3</td>\n",
       "      <td>1</td>\n",
       "      <td>1270</td>\n",
       "      <td>1584</td>\n",
       "    </tr>\n",
       "    <tr>\n",
       "      <th>2</th>\n",
       "      <td>1</td>\n",
       "      <td>4</td>\n",
       "      <td>2</td>\n",
       "      <td>2</td>\n",
       "      <td>0</td>\n",
       "      <td>362</td>\n",
       "      <td>51</td>\n",
       "      <td>0</td>\n",
       "      <td>-360</td>\n",
       "      <td>-2554</td>\n",
       "      <td>0</td>\n",
       "      <td>1</td>\n",
       "      <td>3</td>\n",
       "      <td>1</td>\n",
       "      <td>1270</td>\n",
       "      <td>1585</td>\n",
       "    </tr>\n",
       "  </tbody>\n",
       "</table>\n",
       "</div>"
      ],
      "text/plain": [
       "   Store  DayOfWeek  days_since_start  days_since_yr  weeks_since_yr  \\\n",
       "1      1          3                 1              1               0   \n",
       "2      1          4                 2              2               0   \n",
       "\n",
       "   days_left_yr  weeks_left_yr  Promo  dt_since_last_promo2  \\\n",
       "1           363             51      0                  -360   \n",
       "2           362             51      0                  -360   \n",
       "\n",
       "   dt_since_first_promo2  StateHoliday  SchoolHoliday  StoreType  Assortment  \\\n",
       "1                  -2555             0              1          3           1   \n",
       "2                  -2554             0              1          3           1   \n",
       "\n",
       "   CompetitionDistance  competition_since_days  \n",
       "1                 1270                    1584  \n",
       "2                 1270                    1585  "
      ]
     },
     "execution_count": 53,
     "metadata": {},
     "output_type": "execute_result"
    }
   ],
   "source": [
    "df_tr[features].head(2)"
   ]
  },
  {
   "cell_type": "code",
   "execution_count": 54,
   "metadata": {},
   "outputs": [],
   "source": [
    "from rossmann.utils import rmspe_xg"
   ]
  },
  {
   "cell_type": "code",
   "execution_count": 56,
   "metadata": {
    "code_folding": [],
    "scrolled": true
   },
   "outputs": [
    {
     "name": "stdout",
     "output_type": "stream",
     "text": [
      "Train a XGBoost model\n",
      "[0]\ttrain-rmse:7241.36\teval-rmse:7533.8\ttrain-rmspe:0.943468\teval-rmspe:0.944605\n",
      "Multiple eval metrics have been passed: 'eval-rmspe' will be used for early stopping.\n",
      "\n",
      "Will train until eval-rmspe hasn't improved in 10 rounds.\n",
      "[1]\ttrain-rmse:6931.07\teval-rmse:7154.63\ttrain-rmspe:0.889524\teval-rmspe:0.882703\n",
      "Training time is 3.602467 s.\n"
     ]
    }
   ],
   "source": [
    "num_boost_round = 2\n",
    "label_col = 'Sales'\n",
    "train_log = dict()\n",
    "\n",
    "dtr = xgb.DMatrix(data=df_tr[features].to_numpy(), \n",
    "                  label=df_tr[label_col].to_numpy(), \n",
    "                  feature_names=features,\n",
    "                  feature_types=feature_types)\n",
    "\n",
    "dva = xgb.DMatrix(data=df_va[features].to_numpy(), \n",
    "                  label=df_va[label_col].to_numpy(), \n",
    "                  feature_names=features,\n",
    "                  feature_types=feature_types)\n",
    "\n",
    "watchlist = [(dtr, 'train'), (dva, 'eval')]\n",
    "\n",
    "\n",
    "print(\"Train a XGBoost model\")\n",
    "start = time()\n",
    "gbm = xgb.train(params, dtr, num_boost_round, \n",
    "                evals=watchlist, \n",
    "                early_stopping_rounds=10, \n",
    "                feval=rmspe_xg,\n",
    "                evals_result=train_log,\n",
    "                verbose_eval=True)\n",
    "end = time()\n",
    "print('Training time is {:2f} s.'.format(end-start))"
   ]
  },
  {
   "cell_type": "code",
   "execution_count": null,
   "metadata": {},
   "outputs": [],
   "source": []
  },
  {
   "cell_type": "code",
   "execution_count": 66,
   "metadata": {},
   "outputs": [
    {
     "data": {
      "image/png": "[encoded data removed]",
      "text/plain": [
       "<Figure size 432x720 with 1 Axes>"
      ]
     },
     "metadata": {
      "needs_background": "light"
     },
     "output_type": "display_data"
    }
   ],
   "source": [
    "import matplotlib.pyplot as plt\n",
    "\n",
    "fig = xgb.plot_importance(gbm)\n",
    "plt.rcParams['figure.figsize'] = [6, 10]\n",
    "fig.get_figure().savefig('feature_importance_xgb.png', bbox_inches='tight', pad_inches=1)"
   ]
  },
  {
   "cell_type": "code",
   "execution_count": 63,
   "metadata": {},
   "outputs": [],
   "source": []
  },
  {
   "cell_type": "code",
   "execution_count": null,
   "metadata": {},
   "outputs": [],
   "source": []
  },
  {
   "cell_type": "code",
   "execution_count": null,
   "metadata": {},
   "outputs": [],
   "source": []
  },
  {
   "cell_type": "code",
   "execution_count": 81,
   "metadata": {},
   "outputs": [
    {
     "data": {
      "image/png": "[encoded data removed]",
      "text/plain": [
       "<Figure size 1440x1440 with 1 Axes>"
      ]
     },
     "metadata": {
      "needs_background": "light"
     },
     "output_type": "display_data"
    }
   ],
   "source": [
    "import matplotlib.pyplot as plt\n",
    "\n",
    "xgb.plot_importance(gbm)\n",
    "plt.rcParams['figure.figsize'] = [20, 20]\n",
    "plt.show()"
   ]
  },
  {
   "cell_type": "code",
   "execution_count": 49,
   "metadata": {},
   "outputs": [],
   "source": [
    "# Only format is corect\n",
    "# def create_feature_map(features):\n",
    "#     outfile = open('xgb.fmap', 'w')\n",
    "#     for i, feat in enumerate(features):\n",
    "#         outfile.write('{0}\\t{1}\\tq\\n'.format(i, feat))\n",
    "#     outfile.close()\n"
   ]
  },
  {
   "cell_type": "code",
   "execution_count": 51,
   "metadata": {},
   "outputs": [],
   "source": [
    "# create_feature_map(features)"
   ]
  },
  {
   "cell_type": "code",
   "execution_count": 82,
   "metadata": {},
   "outputs": [
    {
     "data": {
      "text/plain": [
       "{'Promo': 2,\n",
       " 'store_type__b': 23,\n",
       " 'days_since_yr': 45,\n",
       " 'dt_since_last_promo2': 88,\n",
       " 'assortment__a': 50,\n",
       " 'CompetitionDistance': 362,\n",
       " 'competition_since_days': 90,\n",
       " 'store_type__a': 33,\n",
       " 'days_since_start': 45,\n",
       " 'state_hol__0': 7,\n",
       " 'state_hol__c': 1,\n",
       " 'assortment__c': 9,\n",
       " 'Store': 134,\n",
       " 'DayOfWeek': 41,\n",
       " 'state_hol__a': 5,\n",
       " 'SchoolHoliday': 1}"
      ]
     },
     "execution_count": 82,
     "metadata": {},
     "output_type": "execute_result"
    }
   ],
   "source": [
    "gbm.get_fscore()"
   ]
  },
  {
   "cell_type": "code",
   "execution_count": 70,
   "metadata": {
    "code_folding": []
   },
   "outputs": [],
   "source": [
    "# geenrate predictoins\n",
    "\n",
    "# We can immediately predict the 'Sales' if the store is closed.\n",
    "df_te.loc[df_te['Open'] == 0, 'Sales'] = 0\n",
    "df_te.loc[df_te['Open'] == 1, 'Sales'] = gbm.predict(xgb.DMatrix(data=df_te[df_te['Open'] == 1][features].to_numpy(), \n",
    "                                                                 feature_names=features))\n",
    "\n",
    "predictions = df_te[['Id', 'Sales']].copy(deep=True)\n",
    "predictions['Id'] = predictions['Id'].astype(int)\n",
    "predictions = predictions.set_index(['Id'], drop=True)\n",
    "predictions[['Sales']].sort_index().to_csv('temp.csv')"
   ]
  },
  {
   "cell_type": "code",
   "execution_count": null,
   "metadata": {},
   "outputs": [],
   "source": []
  },
  {
   "cell_type": "code",
   "execution_count": 83,
   "metadata": {
    "code_folding": []
   },
   "outputs": [],
   "source": [
    "# human readable version\n",
    "gbm.dump_model(os.path.join('dump.raw.txt'))\n"
   ]
  },
  {
   "cell_type": "code",
   "execution_count": 48,
   "metadata": {},
   "outputs": [],
   "source": [
    "# human readable version\n",
    "bst.dump_model(os.path.join(output_dir, 'dump.raw.txt'))\n",
    "\n",
    "# save model\n",
    "gbm.save_model('gbm.model')\n",
    "\n",
    "# load model \n",
    "gbm_loaded = xgb.Booster(model_file='gbm.model')\n",
    "\n",
    "\n",
    "\n",
    "import json\n",
    "\n",
    "with open('train_log.json', 'w') as f:\n",
    "    json.dump(train_log, f)"
   ]
  },
  {
   "cell_type": "code",
   "execution_count": 58,
   "metadata": {},
   "outputs": [],
   "source": []
  },
  {
   "cell_type": "code",
   "execution_count": null,
   "metadata": {},
   "outputs": [],
   "source": []
  },
  {
   "cell_type": "code",
   "execution_count": null,
   "metadata": {},
   "outputs": [],
   "source": []
  },
  {
   "cell_type": "code",
   "execution_count": null,
   "metadata": {},
   "outputs": [],
   "source": []
  },
  {
   "cell_type": "code",
   "execution_count": null,
   "metadata": {},
   "outputs": [],
   "source": []
  },
  {
   "cell_type": "code",
   "execution_count": null,
   "metadata": {},
   "outputs": [],
   "source": []
  },
  {
   "cell_type": "code",
   "execution_count": null,
   "metadata": {},
   "outputs": [],
   "source": []
  },
  {
   "cell_type": "code",
   "execution_count": null,
   "metadata": {},
   "outputs": [],
   "source": []
  },
  {
   "cell_type": "code",
   "execution_count": null,
   "metadata": {},
   "outputs": [],
   "source": []
  },
  {
   "cell_type": "code",
   "execution_count": null,
   "metadata": {},
   "outputs": [],
   "source": []
  }
 ],
 "metadata": {
  "kernelspec": {
   "display_name": "rossmann",
   "language": "python",
   "name": "rossmann"
  },
  "language_info": {
   "codemirror_mode": {
    "name": "ipython",
    "version": 3
   },
   "file_extension": ".py",
   "mimetype": "text/x-python",
   "name": "python",
   "nbconvert_exporter": "python",
   "pygments_lexer": "ipython3",
   "version": "3.7.5"
  }
 },
 "nbformat": 4,
 "nbformat_minor": 2
}
