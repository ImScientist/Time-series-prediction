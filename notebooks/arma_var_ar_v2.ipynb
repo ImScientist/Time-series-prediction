{
 "cells": [
  {
   "cell_type": "code",
   "execution_count": 1,
   "metadata": {},
   "outputs": [],
   "source": [
    "import os\n",
    "import pandas as pd \n",
    "import numpy as np\n",
    "import datetime\n",
    "\n",
    "from sklearn.preprocessing import MinMaxScaler\n",
    "from sklearn.metrics import mean_squared_error, mean_absolute_error\n",
    "\n",
    "from statsmodels.tsa.arima_model import ARIMA\n",
    "import math\n",
    "\n",
    "import matplotlib.pylab as plt\n",
    "# %matplotlib inline"
   ]
  },
  {
   "cell_type": "code",
   "execution_count": 2,
   "metadata": {},
   "outputs": [],
   "source": [
    "os.chdir('..')"
   ]
  },
  {
   "cell_type": "code",
   "execution_count": 3,
   "metadata": {},
   "outputs": [
    {
     "name": "stdout",
     "output_type": "stream",
     "text": [
      "/Users/A.IVA/Documents/jupyter_notebooks/rest/coursera_and_blogs/time_series\r\n"
     ]
    }
   ],
   "source": [
    "! pwd"
   ]
  },
  {
   "cell_type": "markdown",
   "metadata": {},
   "source": [
    "### 1 AR"
   ]
  },
  {
   "cell_type": "markdown",
   "metadata": {
    "heading_collapsed": true
   },
   "source": [
    "##### 1.1 Load data"
   ]
  },
  {
   "cell_type": "code",
   "execution_count": 4,
   "metadata": {
    "hidden": true
   },
   "outputs": [
    {
     "data": {
      "text/html": [
       "<div>\n",
       "<style scoped>\n",
       "    .dataframe tbody tr th:only-of-type {\n",
       "        vertical-align: middle;\n",
       "    }\n",
       "\n",
       "    .dataframe tbody tr th {\n",
       "        vertical-align: top;\n",
       "    }\n",
       "\n",
       "    .dataframe thead th {\n",
       "        text-align: right;\n",
       "    }\n",
       "</style>\n",
       "<table border=\"1\" class=\"dataframe\">\n",
       "  <thead>\n",
       "    <tr style=\"text-align: right;\">\n",
       "      <th></th>\n",
       "      <th>Open</th>\n",
       "      <th>High</th>\n",
       "      <th>Low</th>\n",
       "      <th>Close</th>\n",
       "      <th>Volume</th>\n",
       "      <th>OpenInt</th>\n",
       "    </tr>\n",
       "    <tr>\n",
       "      <th>Date</th>\n",
       "      <th></th>\n",
       "      <th></th>\n",
       "      <th></th>\n",
       "      <th></th>\n",
       "      <th></th>\n",
       "      <th></th>\n",
       "    </tr>\n",
       "  </thead>\n",
       "  <tbody>\n",
       "    <tr>\n",
       "      <th>2010-06-28</th>\n",
       "      <td>17.0</td>\n",
       "      <td>17.0</td>\n",
       "      <td>17.00</td>\n",
       "      <td>17.00</td>\n",
       "      <td>0</td>\n",
       "      <td>0</td>\n",
       "    </tr>\n",
       "    <tr>\n",
       "      <th>2010-06-29</th>\n",
       "      <td>19.0</td>\n",
       "      <td>25.0</td>\n",
       "      <td>17.54</td>\n",
       "      <td>23.89</td>\n",
       "      <td>18783276</td>\n",
       "      <td>0</td>\n",
       "    </tr>\n",
       "  </tbody>\n",
       "</table>\n",
       "</div>"
      ],
      "text/plain": [
       "            Open  High    Low  Close    Volume  OpenInt\n",
       "Date                                                   \n",
       "2010-06-28  17.0  17.0  17.00  17.00         0        0\n",
       "2010-06-29  19.0  25.0  17.54  23.89  18783276        0"
      ]
     },
     "metadata": {},
     "output_type": "display_data"
    },
    {
     "data": {
      "text/html": [
       "<div>\n",
       "<style scoped>\n",
       "    .dataframe tbody tr th:only-of-type {\n",
       "        vertical-align: middle;\n",
       "    }\n",
       "\n",
       "    .dataframe tbody tr th {\n",
       "        vertical-align: top;\n",
       "    }\n",
       "\n",
       "    .dataframe thead th {\n",
       "        text-align: right;\n",
       "    }\n",
       "</style>\n",
       "<table border=\"1\" class=\"dataframe\">\n",
       "  <thead>\n",
       "    <tr style=\"text-align: right;\">\n",
       "      <th></th>\n",
       "      <th>Open</th>\n",
       "      <th>High</th>\n",
       "      <th>Low</th>\n",
       "      <th>Close</th>\n",
       "      <th>Volume</th>\n",
       "      <th>OpenInt</th>\n",
       "    </tr>\n",
       "    <tr>\n",
       "      <th>Date</th>\n",
       "      <th></th>\n",
       "      <th></th>\n",
       "      <th></th>\n",
       "      <th></th>\n",
       "      <th></th>\n",
       "      <th></th>\n",
       "    </tr>\n",
       "  </thead>\n",
       "  <tbody>\n",
       "    <tr>\n",
       "      <th>2017-11-09</th>\n",
       "      <td>302.5</td>\n",
       "      <td>304.46</td>\n",
       "      <td>296.30</td>\n",
       "      <td>302.99</td>\n",
       "      <td>5440335</td>\n",
       "      <td>0</td>\n",
       "    </tr>\n",
       "    <tr>\n",
       "      <th>2017-11-10</th>\n",
       "      <td>302.5</td>\n",
       "      <td>308.36</td>\n",
       "      <td>301.85</td>\n",
       "      <td>302.99</td>\n",
       "      <td>4621912</td>\n",
       "      <td>0</td>\n",
       "    </tr>\n",
       "  </tbody>\n",
       "</table>\n",
       "</div>"
      ],
      "text/plain": [
       "             Open    High     Low   Close   Volume  OpenInt\n",
       "Date                                                       \n",
       "2017-11-09  302.5  304.46  296.30  302.99  5440335        0\n",
       "2017-11-10  302.5  308.36  301.85  302.99  4621912        0"
      ]
     },
     "metadata": {},
     "output_type": "display_data"
    }
   ],
   "source": [
    "data_dir = os.path.join('data', 'kaggle_stocks', 'Stocks')\n",
    "\n",
    "dateparse = lambda x: datetime.datetime.strptime(x, '%Y-%m-%d')\n",
    "\n",
    "data = pd.read_csv(os.path.join(data_dir, 'tsla.us.txt'), index_col=0, date_parser=dateparse)\n",
    "\n",
    "train = data['Open']['2014-07-01':'2017-04-01'].values\n",
    "test = data['Open']['2017-04-01':].values[:50]\n",
    "\n",
    "display(data.head(2))\n",
    "display(data.tail(2))"
   ]
  },
  {
   "cell_type": "code",
   "execution_count": 5,
   "metadata": {
    "hidden": true
   },
   "outputs": [],
   "source": [
    "from statsmodels.tsa.ar_model import AR\n",
    "model_ar = AR(endog=train)\n",
    "model_ar_result = model_ar.fit(maxlag=100, ic='aic', trend='c', maxiter=100)"
   ]
  },
  {
   "cell_type": "markdown",
   "metadata": {
    "heading_collapsed": true
   },
   "source": [
    "##### 1.2 Save a model"
   ]
  },
  {
   "cell_type": "code",
   "execution_count": 6,
   "metadata": {
    "hidden": true
   },
   "outputs": [],
   "source": [
    "from statsmodels.tsa.ar_model import AR\n",
    "\n",
    "model_ar = AR(endog=train)\n",
    "model_ar_result = model_ar.fit(maxlag=100, ic='aic', trend='c', maxiter=100)\n",
    "\n",
    "model_ar_dir = ('model_3_ar_arima_etx')\n",
    "if not os.path.exists(model_ar_dir):\n",
    "    os.makedirs(model_ar_dir)\n",
    "\n",
    "model_ar_result.save( os.path.join(model_ar_dir, 'model_ar.pickle'), remove_data=False)"
   ]
  },
  {
   "cell_type": "markdown",
   "metadata": {
    "heading_collapsed": true
   },
   "source": [
    "##### 1.3 Algorithm check"
   ]
  },
  {
   "cell_type": "code",
   "execution_count": 10,
   "metadata": {
    "hidden": true
   },
   "outputs": [
    {
     "name": "stdout",
     "output_type": "stream",
     "text": [
      "model parameters\n",
      "[5.219234   0.97721209]\n",
      "\n",
      "beginning (first entry can not be predicted)\n",
      "[242.15407739 240.39509563 231.38520016]\n",
      "[242.15407739 240.39509563 231.38520016]\n",
      "[242.15407739 240.39509563 231.38520016]\n",
      "\n",
      "end\n",
      "[275.92652723 277.21644719 276.92328356]\n",
      "[275.92652723 277.21644719 276.92328356]\n",
      "[275.92652723 277.21644719 276.92328356]\n",
      "\n",
      "out of sample predictions\n",
      "[277.5975599  276.49092575 275.40950947]\n",
      "[277.5975599  276.49092575 275.40950947]\n",
      "[277.5975599  276.49092575 275.40950947]\n"
     ]
    }
   ],
   "source": [
    "print('model parameters')\n",
    "print(model_ar_result.params)\n",
    "\n",
    "print('\\nbeginning (first entry can not be predicted)')\n",
    "print(model_ar.predict(model_ar_result.params, start=1,end=3))\n",
    "print(model_ar_result.predict(                 start=1,end=3))\n",
    "print((model_ar_result.params[0] + model_ar_result.params[1]*model_ar.endog[:3]).reshape(-1))\n",
    "\n",
    "print('\\nend') \n",
    "print(model_ar.predict(model_ar_result.params, start=model_ar.endog.shape[0]-3,end=model_ar.endog.shape[0]-1))\n",
    "print(model_ar_result.predict(                 start=model_ar.endog.shape[0]-3,end=model_ar.endog.shape[0]-1))\n",
    "print((model_ar_result.params[0] + model_ar_result.params[1]*model_ar.endog[-4:-1]).reshape(-1))\n",
    "\n",
    "print('\\nout of sample predictions') \n",
    "print(model_ar.predict(model_ar_result.params, start=model_ar.endog.shape[0],end=model_ar.endog.shape[0]+2))\n",
    "print(model_ar_result.predict(                 start=model_ar.endog.shape[0],end=model_ar.endog.shape[0]+2))\n",
    "\n",
    "# manual out of sample calculation\n",
    "v1 = model_ar_result.params[0] + model_ar_result.params[1]*model_ar.endog[-1]\n",
    "v2 = model_ar_result.params[0] + model_ar_result.params[1]*v1\n",
    "v3 = model_ar_result.params[0] + model_ar_result.params[1]*v2\n",
    "print(np.array([v1, v2, v3]).reshape(-1))"
   ]
  },
  {
   "cell_type": "markdown",
   "metadata": {
    "heading_collapsed": true
   },
   "source": [
    "##### 1.4 Load a model"
   ]
  },
  {
   "cell_type": "code",
   "execution_count": 11,
   "metadata": {
    "hidden": true
   },
   "outputs": [
    {
     "name": "stdout",
     "output_type": "stream",
     "text": [
      "the new thing is an instance of class \t <class 'statsmodels.tsa.ar_model.ARResultsWrapper'>\n",
      "[242.15407739 240.39509563 231.38520016]\n",
      "[275.92652723 277.21644719 276.92328356]\n"
     ]
    }
   ],
   "source": [
    "from statsmodels.tsa.ar_model import ARResults\n",
    "\n",
    "something = ARResults.load(os.path.join(model_ar_dir, 'model_ar.pickle'))\n",
    "\n",
    "print('the new thing is an instance of class \\t', type(something))\n",
    "print(something.predict(start=1,end=3, dynamic=False))\n",
    "print(something.predict(start=train.shape[0]-3,end=train.shape[0]-1))"
   ]
  },
  {
   "cell_type": "markdown",
   "metadata": {
    "heading_collapsed": true
   },
   "source": [
    "##### 1.5 One step forward prediction and continuous update"
   ]
  },
  {
   "cell_type": "markdown",
   "metadata": {
    "hidden": true
   },
   "source": [
    "Look at the case where you want to predict the `T`-th out of training sample value,   \n",
    "by using the real/observed `T, T-1, T-2, ..` values.     \n",
    "Apparently, the only, way to achieve this is to:  \n",
    " 1. include the newly obeserved value to the rest of obeserved value to the previous values that are used to fit the model  \n",
    " 2. train the model again using the new slightly larger data set .  \n",
    " 3. make a `prediction` for the next step and add the `observed`/`real` value to the data used for training as in step 1."
   ]
  },
  {
   "cell_type": "code",
   "execution_count": 12,
   "metadata": {
    "hidden": true
   },
   "outputs": [
    {
     "name": "stdout",
     "output_type": "stream",
     "text": [
      "model parameters by using only the training data [5.219234   0.97721209]\n",
      "model parameters by using training + testing data [1.2546128  0.99533369]\n",
      "27.750532150268555\n"
     ]
    }
   ],
   "source": [
    "# Option 1\n",
    "import time\n",
    "\n",
    "model_ar = AR(endog=train)\n",
    "model_ar_result = model_ar.fit(maxlag=100, ic='aic', trend='c', maxiter=100)\n",
    "print('model parameters by using only the training data', model_ar_result.params)\n",
    "\n",
    "a = time.time()\n",
    "for i in range(len(test)):\n",
    "    \n",
    "    new_entry = model_ar_result.predict(start=model_ar.endog.shape[0], end=model_ar.endog.shape[0])\n",
    "    \n",
    "    model_ar.endog = np.append(model_ar.endog, test[i].reshape(1,-1), axis=0)\n",
    "    \n",
    "    model_ar_result = model_ar.fit(maxlag=100, ic='aic', trend='c', maxiter=100)\n",
    "    \n",
    "print('model parameters by using training + testing data', model_ar_result.params)\n",
    "b = time.time()\n",
    "print(b-a)"
   ]
  },
  {
   "cell_type": "code",
   "execution_count": 13,
   "metadata": {
    "hidden": true
   },
   "outputs": [
    {
     "name": "stdout",
     "output_type": "stream",
     "text": [
      "model parameters by using only the training data [5.219234   0.97721209]\n",
      "model parameters by using training + testing data [1.2546128  0.99533369]\n",
      "27.509963035583496\n"
     ]
    }
   ],
   "source": [
    "# Option 2 (use previous predicitons as an initial state for the next fit operation)\n",
    "\n",
    "model_ar = AR(endog=train)\n",
    "model_ar_result = model_ar.fit(maxlag=100, ic='aic', trend='c', maxiter=100)\n",
    "print('model parameters by using only the training data', model_ar_result.params)\n",
    "\n",
    "a = time.time()\n",
    "for i in range(len(test)):\n",
    "    \n",
    "    new_entry = model_ar_result.predict(start=model_ar.endog.shape[0], end=model_ar.endog.shape[0])\n",
    "    \n",
    "    model_ar.endog = np.append(model_ar.endog, test[i].reshape(1,-1), axis=0)\n",
    "    \n",
    "    model_ar_result = model_ar.fit(maxlag=100, ic='aic', trend='c', maxiter=100, start_params=model_ar_result.params)\n",
    "    \n",
    "print('model parameters by using training + testing data', model_ar_result.params)\n",
    "b = time.time()\n",
    "print(b-a)"
   ]
  },
  {
   "cell_type": "code",
   "execution_count": 14,
   "metadata": {
    "hidden": true
   },
   "outputs": [
    {
     "name": "stdout",
     "output_type": "stream",
     "text": [
      "model parameters by using only the training data [5.219234   0.97721209]\n",
      "model parameters by using training + testing data [1.2546128  0.99533369]\n"
     ]
    }
   ],
   "source": [
    "# Option 3 : instead of playing with the endogen variables we could just initialize a new model\n",
    "\n",
    "model_ar = AR(endog=train)\n",
    "model_ar_result = model_ar.fit(maxlag=100, ic='aic', trend='c', maxiter=100)\n",
    "print('model parameters by using only the training data', model_ar_result.params)\n",
    "\n",
    "for i in range(len(test)):\n",
    "    \n",
    "    new_entry = model_ar_result.predict( start=model_ar.endog.shape[0],end=model_ar.endog.shape[0])\n",
    "    model_ar = AR(endog=np.append(model_ar.endog.reshape(-1), test[i].reshape(-1)))\n",
    "    model_ar_result = model_ar.fit(maxlag=100, ic='aic', trend='c', maxiter=100)\n",
    "    \n",
    "print('model parameters by using training + testing data', model_ar_result.params)"
   ]
  },
  {
   "cell_type": "code",
   "execution_count": 15,
   "metadata": {
    "hidden": true
   },
   "outputs": [
    {
     "data": {
      "text/plain": [
       "array([1.2546128 , 0.99533369])"
      ]
     },
     "execution_count": 15,
     "metadata": {},
     "output_type": "execute_result"
    }
   ],
   "source": [
    "# Check if the approaches above make sence by fitting directly with train + test \n",
    "\n",
    "model_ar = AR(endog=np.append(train, test))\n",
    "model_ar_result = model_ar.fit(maxlag=100, ic='aic', trend='c', maxiter=100)\n",
    "model_ar_result.params"
   ]
  },
  {
   "cell_type": "markdown",
   "metadata": {
    "heading_collapsed": true
   },
   "source": [
    "##### 1.6 Other potential cool methods to check"
   ]
  },
  {
   "cell_type": "markdown",
   "metadata": {
    "hidden": true
   },
   "source": [
    "With the `initialize()` method you can set only `self.params`, `self.model` and `self.k_constant`"
   ]
  },
  {
   "cell_type": "code",
   "execution_count": null,
   "metadata": {
    "hidden": true
   },
   "outputs": [],
   "source": []
  },
  {
   "cell_type": "markdown",
   "metadata": {
    "hidden": true
   },
   "source": [
    "Select order    \n",
    "The order selection is also done while applying the `fit()` method."
   ]
  },
  {
   "cell_type": "code",
   "execution_count": 16,
   "metadata": {
    "hidden": true
   },
   "outputs": [
    {
     "data": {
      "text/plain": [
       "1"
      ]
     },
     "execution_count": 16,
     "metadata": {},
     "output_type": "execute_result"
    }
   ],
   "source": [
    "model_ar = AR(endog=np.append(train, test))\n",
    "model_ar.select_order(maxlag=10, ic='aic', trend='c')"
   ]
  },
  {
   "cell_type": "markdown",
   "metadata": {
    "hidden": true
   },
   "source": [
    "Other methods/< I have forgotten the word>"
   ]
  },
  {
   "cell_type": "code",
   "execution_count": 21,
   "metadata": {
    "hidden": true
   },
   "outputs": [
    {
     "name": "stdout",
     "output_type": "stream",
     "text": [
      "743 744 [1.2546128  0.99533369]\n",
      "\n",
      "\n",
      "None y [100 101]\n"
     ]
    }
   ],
   "source": [
    "print(model_ar_result.nobs, model_ar_result.n_totobs, model_ar_result.params)\n",
    "print('\\n')\n",
    "print(model_ar.data.xnames, model_ar.data.ynames, model_ar.data.attach_rows(np.array([100,101])))"
   ]
  },
  {
   "cell_type": "code",
   "execution_count": 19,
   "metadata": {
    "hidden": true,
    "scrolled": true
   },
   "outputs": [
    {
     "data": {
      "text/plain": [
       "array([[  1.  , 242.46],\n",
       "       [  1.  , 240.66],\n",
       "       [  1.  , 231.44]])"
      ]
     },
     "execution_count": 19,
     "metadata": {},
     "output_type": "execute_result"
    }
   ],
   "source": [
    "model_ar_result.X[:3]"
   ]
  },
  {
   "cell_type": "code",
   "execution_count": 20,
   "metadata": {
    "hidden": true
   },
   "outputs": [
    {
     "data": {
      "text/plain": [
       "array([242.46, 240.66, 231.44])"
      ]
     },
     "execution_count": 20,
     "metadata": {},
     "output_type": "execute_result"
    }
   ],
   "source": [
    "model_ar.data.endog[:3]"
   ]
  },
  {
   "cell_type": "code",
   "execution_count": null,
   "metadata": {
    "hidden": true
   },
   "outputs": [],
   "source": [
    "# model_ar_2.from_formula() # not tested\n",
    "# model_ar.data.attach_rows() # mo success"
   ]
  },
  {
   "cell_type": "markdown",
   "metadata": {
    "heading_collapsed": true
   },
   "source": [
    "##### 1.7 Test how everything works with time series with `Integer64` index"
   ]
  },
  {
   "cell_type": "code",
   "execution_count": 47,
   "metadata": {
    "hidden": true
   },
   "outputs": [],
   "source": [
    "df_train_test = data['Open']['2014-07-01':'2017-06-13'].reset_index(drop=True).copy() # this is a closed interval !!!\n",
    "df_train = df_train_test[:-50].copy()\n",
    "df_test = df_train_test[-50:].copy()"
   ]
  },
  {
   "cell_type": "code",
   "execution_count": 48,
   "metadata": {
    "hidden": true
   },
   "outputs": [],
   "source": [
    "from statsmodels.tsa.ar_model import AR\n",
    "model_ar = AR(endog=df_train)\n",
    "model_ar_result = model_ar.fit(maxlag=100, ic='aic', trend='c', maxiter=100)"
   ]
  },
  {
   "cell_type": "markdown",
   "metadata": {
    "hidden": true
   },
   "source": [
    "`model_ar_result.params` is a `Series` object.    \n",
    "`model_ar.predict()` returns arrays, `model_ar_result.predict()` returns `Series`.     \n",
    "The fucntion `# _ar_predict_out_of_sample()` fails for out of sample predictions.     \n"
   ]
  },
  {
   "cell_type": "code",
   "execution_count": 59,
   "metadata": {
    "hidden": true
   },
   "outputs": [
    {
     "name": "stdout",
     "output_type": "stream",
     "text": [
      "model parameters\n",
      "const      5.219234\n",
      "L1.Open    0.977212\n",
      "dtype: float64\n",
      "\n",
      "beginning (first entry can not be predicted)\n",
      "[242.15407739 240.39509563 231.38520016]\n",
      "1    242.154077\n",
      "2    240.395096\n",
      "3    231.385200\n",
      "dtype: float64\n",
      "[242.15407739 240.39509563 231.38520016]\n",
      "\n",
      "end\n",
      "[275.92652723 277.21644719 276.92328356]\n",
      "691    275.926527\n",
      "692    277.216447\n",
      "693    276.923284\n",
      "dtype: float64\n",
      "[275.92652723 277.21644719 276.92328356]\n",
      "\n",
      "out of sample predictions; THIS CASE IS NOT WELL HANDLED by the model (only by model_Result)\n",
      "694    277.597560\n",
      "695    276.490926\n",
      "696    275.409509\n",
      "dtype: float64\n",
      "[277.5975599  276.49092575 275.40950947]\n"
     ]
    }
   ],
   "source": [
    "print('model parameters')\n",
    "print(model_ar_result.params)\n",
    "\n",
    "print('\\nbeginning (first entry can not be predicted)')\n",
    "print(model_ar.predict(model_ar_result.params, start=1,end=3))\n",
    "print(model_ar_result.predict(                 start=1,end=3))\n",
    "print((model_ar_result.params[0] + model_ar_result.params[1]*model_ar.endog[:3]).reshape(-1))\n",
    "\n",
    "print('\\nend') \n",
    "print(model_ar.predict(model_ar_result.params, start=model_ar.endog.shape[0]-3,end=model_ar.endog.shape[0]-1))\n",
    "print(model_ar_result.predict(                 start=model_ar.endog.shape[0]-3,end=model_ar.endog.shape[0]-1))\n",
    "print((model_ar_result.params[0] + model_ar_result.params[1]*model_ar.endog[-4:-1]).reshape(-1))\n",
    "\n",
    "print('\\nout of sample predictions; THIS CASE IS NOT WELL HANDLED by the model (only by model_Result)') \n",
    "# print(model_ar.predict(model_ar_result.params, start=model_ar.endog.shape[0],end=model_ar.endog.shape[0]+2))\n",
    "print(model_ar_result.predict(                 start=model_ar.endog.shape[0],end=model_ar.endog.shape[0]+2))\n",
    "\n",
    "# manual out of sample calculation\n",
    "v1 = model_ar_result.params['const'] + model_ar_result.params['L1.Open']*model_ar.endog[-1]\n",
    "v2 = model_ar_result.params['const'] + model_ar_result.params['L1.Open']*v1\n",
    "v3 = model_ar_result.params['const'] + model_ar_result.params['L1.Open']*v2\n",
    "print(np.array([v1, v2, v3]).reshape(-1))"
   ]
  },
  {
   "cell_type": "code",
   "execution_count": 92,
   "metadata": {
    "hidden": true
   },
   "outputs": [
    {
     "name": "stdout",
     "output_type": "stream",
     "text": [
      "model parameters by using only the training data\n",
      " const      5.219234\n",
      "L1.Open    0.977212\n",
      "dtype: float64\n",
      "model parameters by using training + testing data\n",
      " const      1.254613\n",
      "L1.Open    0.995334\n",
      "dtype: float64\n"
     ]
    }
   ],
   "source": [
    "# Option 3 : instead of playing with the endogen variables we could just initialize a new model\n",
    "\n",
    "model_ar = AR(endog=df_train)\n",
    "model_ar_result = model_ar.fit(maxlag=100, ic='aic', trend='c', maxiter=100)\n",
    "new_train = df_train.copy()\n",
    "print('model parameters by using only the training data\\n', model_ar_result.params)\n",
    "\n",
    "for i in range(len(test)):\n",
    "    \n",
    "    new_entry = model_ar_result.predict( start=model_ar.endog.shape[0],end=model_ar.endog.shape[0])\n",
    "    new_train = new_train.append(df_test.iloc[i:i+1])\n",
    "    \n",
    "    model_ar = AR(endog=new_train)    \n",
    "    model_ar_result = model_ar.fit(maxlag=100, ic='aic', trend='c', maxiter=100)\n",
    "    \n",
    "print('model parameters by using training + testing data\\n', model_ar_result.params)"
   ]
  },
  {
   "cell_type": "code",
   "execution_count": 93,
   "metadata": {
    "hidden": true
   },
   "outputs": [
    {
     "name": "stdout",
     "output_type": "stream",
     "text": [
      "model parameters by using only the training data\n",
      " const      5.219234\n",
      "L1.Open    0.977212\n",
      "dtype: float64\n"
     ]
    }
   ],
   "source": [
    "model_ar = AR(endog=df_train)\n",
    "model_ar_result = model_ar.fit(maxlag=100, ic='aic', trend='c', maxiter=100)\n",
    "new_train = df_train.copy()\n",
    "print('model parameters by using only the training data\\n', model_ar_result.params)"
   ]
  },
  {
   "cell_type": "markdown",
   "metadata": {
    "heading_collapsed": true
   },
   "source": [
    "##### 1.8 Test how everything works with time series with `datetime` index"
   ]
  },
  {
   "cell_type": "code",
   "execution_count": 102,
   "metadata": {
    "hidden": true
   },
   "outputs": [],
   "source": [
    "from statsmodels.tsa.ar_model import AR\n",
    "import datetime"
   ]
  },
  {
   "cell_type": "code",
   "execution_count": 114,
   "metadata": {
    "hidden": true
   },
   "outputs": [],
   "source": [
    "df_train_test = data['Open']['2014-07-01':'2017-06-13'].reset_index(drop=True).copy()\n",
    "df_train_test.index = [datetime.datetime(2000, 2, 3) + datetime.timedelta(days=i) for i in range(len(df_train_test))]\n",
    "\n",
    "df_train = df_train_test[:-50].copy()\n",
    "df_test = df_train_test[-50:].copy()"
   ]
  },
  {
   "cell_type": "code",
   "execution_count": 116,
   "metadata": {
    "hidden": true
   },
   "outputs": [],
   "source": [
    "model_ar = AR(endog=df_train, freq='D')\n",
    "model_ar_result = model_ar.fit(maxlag=100, ic='aic', trend='c', maxiter=100)"
   ]
  },
  {
   "cell_type": "code",
   "execution_count": 117,
   "metadata": {
    "hidden": true
   },
   "outputs": [
    {
     "name": "stdout",
     "output_type": "stream",
     "text": [
      "model parameters\n",
      "const      5.219234\n",
      "L1.Open    0.977212\n",
      "dtype: float64\n"
     ]
    }
   ],
   "source": [
    "print('model parameters')\n",
    "print(model_ar_result.params)"
   ]
  },
  {
   "cell_type": "code",
   "execution_count": 122,
   "metadata": {
    "hidden": true
   },
   "outputs": [
    {
     "name": "stdout",
     "output_type": "stream",
     "text": [
      "\n",
      "beginning (first entry can not be predicted)\n",
      "[242.15407739 240.39509563 231.38520016]\n",
      "2000-02-04    242.154077\n",
      "2000-02-05    240.395096\n",
      "2000-02-06    231.385200\n",
      "Freq: D, dtype: float64\n",
      "[242.15407739 240.39509563 231.38520016]\n",
      "\n",
      "end\n",
      "[275.92652723 277.21644719 276.92328356]\n",
      "2001-12-25    275.926527\n",
      "2001-12-26    277.216447\n",
      "2001-12-27    276.923284\n",
      "Freq: D, dtype: float64\n",
      "[275.92652723 277.21644719 276.92328356]\n",
      "\n",
      "out of sample predictions; THIS CASE IS NOT WELL HANDLED by the model (only by model_Result)\n",
      "2001-12-28    277.597560\n",
      "2001-12-29    276.490926\n",
      "2001-12-30    275.409509\n",
      "Freq: D, dtype: float64\n",
      "[277.5975599  276.49092575 275.40950947]\n"
     ]
    }
   ],
   "source": [
    "print('\\nbeginning (first entry can not be predicted)')\n",
    "print(model_ar.predict(model_ar_result.params, start=1,end=3))\n",
    "print(model_ar_result.predict(                 start=1,end=3))\n",
    "print((model_ar_result.params[0] + model_ar_result.params[1]*model_ar.endog[:3]).reshape(-1))\n",
    "\n",
    "print('\\nend') \n",
    "print(model_ar.predict(model_ar_result.params, start=model_ar.endog.shape[0]-3,end=model_ar.endog.shape[0]-1))\n",
    "print(model_ar_result.predict(                 start=model_ar.endog.shape[0]-3,end=model_ar.endog.shape[0]-1))\n",
    "print((model_ar_result.params[0] + model_ar_result.params[1]*model_ar.endog[-4:-1]).reshape(-1))\n",
    "\n",
    "print('\\nout of sample predictions; THIS CASE IS NOT WELL HANDLED by the model (only by model_Result)') \n",
    "# print(model_ar.predict(model_ar_result.params, start=model_ar.endog.shape[0],end=model_ar.endog.shape[0]+2))\n",
    "print(model_ar_result.predict(                 start=model_ar.endog.shape[0],end=model_ar.endog.shape[0]+2))\n",
    "\n",
    "# manual out of sample calculation\n",
    "v1 = model_ar_result.params['const'] + model_ar_result.params['L1.Open']*model_ar.endog[-1]\n",
    "v2 = model_ar_result.params['const'] + model_ar_result.params['L1.Open']*v1\n",
    "v3 = model_ar_result.params['const'] + model_ar_result.params['L1.Open']*v2\n",
    "print(np.array([v1, v2, v3]).reshape(-1))"
   ]
  },
  {
   "cell_type": "markdown",
   "metadata": {
    "heading_collapsed": true
   },
   "source": [
    "##### 1.9 Test how everything works with time series with `datetime` index (missing indices)"
   ]
  },
  {
   "cell_type": "code",
   "execution_count": 141,
   "metadata": {
    "hidden": true
   },
   "outputs": [],
   "source": [
    "df_train_test = data['Open']['2014-07-01':'2017-06-13'].reset_index(drop=True).copy()\n",
    "df_train_test.index = [datetime.datetime(2000, 2, 3) + datetime.timedelta(days=i) for i in range(len(df_train_test)+1) if i != 20]\n",
    "\n",
    "df_train = df_train_test[:-50].copy()\n",
    "df_test  = df_train_test[-50:].copy()\n",
    "\n",
    "df_train = df_train.asfreq('D', method='backfill') # another option is df_train.resample('D').mean() if we want to look at larger time steps\n",
    "df_test  = df_test.asfreq('D', method='backfill')"
   ]
  },
  {
   "cell_type": "code",
   "execution_count": 143,
   "metadata": {
    "hidden": true
   },
   "outputs": [],
   "source": [
    "model_ar = AR(endog=df_train, freq='D')\n",
    "model_ar_result = model_ar.fit(maxlag=100, ic='aic', trend='c', maxiter=100)"
   ]
  },
  {
   "cell_type": "code",
   "execution_count": 144,
   "metadata": {
    "hidden": true
   },
   "outputs": [
    {
     "name": "stdout",
     "output_type": "stream",
     "text": [
      "model parameters\n",
      "const      5.218590\n",
      "L1.Open    0.977214\n",
      "dtype: float64\n",
      "\n",
      "beginning (first entry can not be predicted)\n",
      "[242.15386664 240.39488166 231.38496969]\n",
      "2000-02-04    242.153867\n",
      "2000-02-05    240.394882\n",
      "2000-02-06    231.384970\n",
      "Freq: D, dtype: float64\n",
      "[242.15386664 240.39488166 231.38496969]\n",
      "\n",
      "end\n",
      "[275.92637831 277.21630063 276.92313646]\n",
      "2001-12-26    275.926378\n",
      "2001-12-27    277.216301\n",
      "2001-12-28    276.923136\n",
      "Freq: D, dtype: float64\n",
      "[275.92637831 277.21630063 276.92313646]\n",
      "\n",
      "out of sample predictions; THIS CASE IS NOT WELL HANDLED by the model (only by model_Result)\n",
      "2001-12-29    277.597414\n",
      "2001-12-30    276.490635\n",
      "2001-12-31    275.409076\n",
      "Freq: D, dtype: float64\n",
      "[277.59741404 276.49063532 275.40907579]\n"
     ]
    }
   ],
   "source": [
    "print('model parameters')\n",
    "print(model_ar_result.params)\n",
    "\n",
    "print('\\nbeginning (first entry can not be predicted)')\n",
    "print(model_ar.predict(model_ar_result.params, start=1,end=3))\n",
    "print(model_ar_result.predict(                 start=1,end=3))\n",
    "print((model_ar_result.params[0] + model_ar_result.params[1]*model_ar.endog[:3]).reshape(-1))\n",
    "\n",
    "print('\\nend') \n",
    "print(model_ar.predict(model_ar_result.params, start=model_ar.endog.shape[0]-3,end=model_ar.endog.shape[0]-1))\n",
    "print(model_ar_result.predict(                 start=model_ar.endog.shape[0]-3,end=model_ar.endog.shape[0]-1))\n",
    "print((model_ar_result.params[0] + model_ar_result.params[1]*model_ar.endog[-4:-1]).reshape(-1))\n",
    "\n",
    "print('\\nout of sample predictions; THIS CASE IS NOT WELL HANDLED by the model (only by model_Result)') \n",
    "# print(model_ar.predict(model_ar_result.params, start=model_ar.endog.shape[0],end=model_ar.endog.shape[0]+2))\n",
    "print(model_ar_result.predict(                 start=model_ar.endog.shape[0],end=model_ar.endog.shape[0]+2))\n",
    "\n",
    "# manual out of sample calculation\n",
    "v1 = model_ar_result.params['const'] + model_ar_result.params['L1.Open']*model_ar.endog[-1]\n",
    "v2 = model_ar_result.params['const'] + model_ar_result.params['L1.Open']*v1\n",
    "v3 = model_ar_result.params['const'] + model_ar_result.params['L1.Open']*v2\n",
    "print(np.array([v1, v2, v3]).reshape(-1))"
   ]
  },
  {
   "cell_type": "markdown",
   "metadata": {},
   "source": [
    "### 2 ARMA"
   ]
  },
  {
   "cell_type": "markdown",
   "metadata": {
    "heading_collapsed": true
   },
   "source": [
    "##### 2.1  Load data"
   ]
  },
  {
   "cell_type": "code",
   "execution_count": 9,
   "metadata": {
    "hidden": true
   },
   "outputs": [
    {
     "data": {
      "text/html": [
       "<div>\n",
       "<style scoped>\n",
       "    .dataframe tbody tr th:only-of-type {\n",
       "        vertical-align: middle;\n",
       "    }\n",
       "\n",
       "    .dataframe tbody tr th {\n",
       "        vertical-align: top;\n",
       "    }\n",
       "\n",
       "    .dataframe thead th {\n",
       "        text-align: right;\n",
       "    }\n",
       "</style>\n",
       "<table border=\"1\" class=\"dataframe\">\n",
       "  <thead>\n",
       "    <tr style=\"text-align: right;\">\n",
       "      <th></th>\n",
       "      <th>Open</th>\n",
       "      <th>High</th>\n",
       "      <th>Low</th>\n",
       "      <th>Close</th>\n",
       "      <th>Volume</th>\n",
       "      <th>OpenInt</th>\n",
       "    </tr>\n",
       "    <tr>\n",
       "      <th>Date</th>\n",
       "      <th></th>\n",
       "      <th></th>\n",
       "      <th></th>\n",
       "      <th></th>\n",
       "      <th></th>\n",
       "      <th></th>\n",
       "    </tr>\n",
       "  </thead>\n",
       "  <tbody>\n",
       "    <tr>\n",
       "      <th>2010-06-28</th>\n",
       "      <td>17.0</td>\n",
       "      <td>17.0</td>\n",
       "      <td>17.00</td>\n",
       "      <td>17.00</td>\n",
       "      <td>0</td>\n",
       "      <td>0</td>\n",
       "    </tr>\n",
       "    <tr>\n",
       "      <th>2010-06-29</th>\n",
       "      <td>19.0</td>\n",
       "      <td>25.0</td>\n",
       "      <td>17.54</td>\n",
       "      <td>23.89</td>\n",
       "      <td>18783276</td>\n",
       "      <td>0</td>\n",
       "    </tr>\n",
       "  </tbody>\n",
       "</table>\n",
       "</div>"
      ],
      "text/plain": [
       "            Open  High    Low  Close    Volume  OpenInt\n",
       "Date                                                   \n",
       "2010-06-28  17.0  17.0  17.00  17.00         0        0\n",
       "2010-06-29  19.0  25.0  17.54  23.89  18783276        0"
      ]
     },
     "metadata": {},
     "output_type": "display_data"
    },
    {
     "data": {
      "text/html": [
       "<div>\n",
       "<style scoped>\n",
       "    .dataframe tbody tr th:only-of-type {\n",
       "        vertical-align: middle;\n",
       "    }\n",
       "\n",
       "    .dataframe tbody tr th {\n",
       "        vertical-align: top;\n",
       "    }\n",
       "\n",
       "    .dataframe thead th {\n",
       "        text-align: right;\n",
       "    }\n",
       "</style>\n",
       "<table border=\"1\" class=\"dataframe\">\n",
       "  <thead>\n",
       "    <tr style=\"text-align: right;\">\n",
       "      <th></th>\n",
       "      <th>Open</th>\n",
       "      <th>High</th>\n",
       "      <th>Low</th>\n",
       "      <th>Close</th>\n",
       "      <th>Volume</th>\n",
       "      <th>OpenInt</th>\n",
       "    </tr>\n",
       "    <tr>\n",
       "      <th>Date</th>\n",
       "      <th></th>\n",
       "      <th></th>\n",
       "      <th></th>\n",
       "      <th></th>\n",
       "      <th></th>\n",
       "      <th></th>\n",
       "    </tr>\n",
       "  </thead>\n",
       "  <tbody>\n",
       "    <tr>\n",
       "      <th>2017-11-09</th>\n",
       "      <td>302.5</td>\n",
       "      <td>304.46</td>\n",
       "      <td>296.30</td>\n",
       "      <td>302.99</td>\n",
       "      <td>5440335</td>\n",
       "      <td>0</td>\n",
       "    </tr>\n",
       "    <tr>\n",
       "      <th>2017-11-10</th>\n",
       "      <td>302.5</td>\n",
       "      <td>308.36</td>\n",
       "      <td>301.85</td>\n",
       "      <td>302.99</td>\n",
       "      <td>4621912</td>\n",
       "      <td>0</td>\n",
       "    </tr>\n",
       "  </tbody>\n",
       "</table>\n",
       "</div>"
      ],
      "text/plain": [
       "             Open    High     Low   Close   Volume  OpenInt\n",
       "Date                                                       \n",
       "2017-11-09  302.5  304.46  296.30  302.99  5440335        0\n",
       "2017-11-10  302.5  308.36  301.85  302.99  4621912        0"
      ]
     },
     "metadata": {},
     "output_type": "display_data"
    }
   ],
   "source": [
    "data_dir = os.path.join('data', 'kaggle_stocks', 'Stocks')\n",
    "\n",
    "dateparse = lambda x: datetime.datetime.strptime(x, '%Y-%m-%d')\n",
    "\n",
    "data = pd.read_csv(os.path.join(data_dir, 'tsla.us.txt'), index_col=0, date_parser=dateparse)\n",
    "\n",
    "train = data['Open']['2014-07-01':'2017-04-01'].values\n",
    "test = data['Open']['2017-04-01':].values[:50]\n",
    "\n",
    "display(data.head(2))\n",
    "display(data.tail(2))"
   ]
  },
  {
   "cell_type": "markdown",
   "metadata": {
    "heading_collapsed": true
   },
   "source": [
    "##### 2.2 Save a model"
   ]
  },
  {
   "cell_type": "markdown",
   "metadata": {
    "hidden": true
   },
   "source": [
    "There is no automatic order `(p,q)` selection !    \n",
    "Therefore no option to set the criteria for picking the best option.    \n",
    "... and no need to set the `maxlag`"
   ]
  },
  {
   "cell_type": "code",
   "execution_count": 10,
   "metadata": {
    "hidden": true
   },
   "outputs": [],
   "source": [
    "from statsmodels.tsa.arima_model import ARMA\n",
    "\n",
    "model_arma = ARMA(endog=train, order=(1,1))\n",
    "model_arma_result = model_arma.fit(trend='c', maxiter=1000)\n",
    "\n",
    "model_arma_dir = ('model_3_ar_arima_etx')\n",
    "if not os.path.exists(model_arma_dir):\n",
    "    os.makedirs(model_arma_dir)\n",
    "\n",
    "model_arma_result.save( os.path.join(model_arma_dir, 'model_arma.pickle'), remove_data=False)"
   ]
  },
  {
   "cell_type": "markdown",
   "metadata": {
    "heading_collapsed": true
   },
   "source": [
    "##### 2.3 Algorithm check"
   ]
  },
  {
   "cell_type": "code",
   "execution_count": 11,
   "metadata": {
    "hidden": true
   },
   "outputs": [
    {
     "name": "stdout",
     "output_type": "stream",
     "text": [
      "model parameters\n",
      "[ 2.30596725e+02  9.77693177e-01 -2.98982933e-02]\n"
     ]
    }
   ],
   "source": [
    "print('model parameters')\n",
    "print(model_arma_result.params)"
   ]
  },
  {
   "cell_type": "code",
   "execution_count": 57,
   "metadata": {
    "hidden": true
   },
   "outputs": [
    {
     "name": "stdout",
     "output_type": "stream",
     "text": [
      "\n",
      "beginning (first entry can not be predicted)\n",
      "[230.59672543 242.17876459 240.48089012 231.6914962  227.69439669]\n",
      "[230.59672543 242.17876459 240.48089012 231.6914962  227.69439669]\n",
      "230.5967254250565 11.863274574943517 11.863274574943517\n",
      "241.84067636753826\n",
      "240.48092878205932\n",
      "231.6914964081344\n",
      "227.694396689746\n",
      "\n",
      "end\n",
      "[275.46859702 277.18914916 276.95625227]\n",
      "[275.46859702 277.18914916 276.95625227]\n",
      "275.4685970151954\n",
      "277.18914916363195\n",
      "276.9562522714625\n",
      "\n",
      "out of sample predictions\n",
      "[277.60326752 276.55470089 275.52952446]\n",
      "[277.60326752 276.55470089 275.52952446]\n",
      "277.60326752140605 276.55470089497766 275.5295244589573\n"
     ]
    }
   ],
   "source": [
    "print('\\nbeginning (first entry can not be predicted)')\n",
    "print(model_arma.predict(model_arma_result.params, start=0,end=4))\n",
    "print(model_arma_result.predict(                   start=0,end=4))\n",
    "\n",
    "y_hat_0 = model_arma_result.params[0] + model_arma_result.params[1]*0 + model_arma_result.params[2]*0\n",
    "e_hat_0 = train[0]-y_hat_0\n",
    "print(y_hat_0, e_hat_0, model_arma_result.resid[0])\n",
    "# maybe some modified version of the error was used for the first `q` errors=\n",
    "print(model_arma_result.params[0] + model_arma_result.params[1]*(train[0]-model_arma_result.params[0]) + model_arma_result.params[2]*e_hat_0)\n",
    "e_hat_1 = model_arma_result.resid[1]\n",
    "print(model_arma_result.params[0] + model_arma_result.params[1]*(train[1]-model_arma_result.params[0]) + model_arma_result.params[2]*e_hat_1)\n",
    "e_hat_2 = model_arma_result.resid[2]\n",
    "print(model_arma_result.params[0] + model_arma_result.params[1]*(train[2]-model_arma_result.params[0]) + model_arma_result.params[2]*e_hat_2)\n",
    "e_hat_3 = model_arma_result.resid[3]\n",
    "print(model_arma_result.params[0] + model_arma_result.params[1]*(train[3]-model_arma_result.params[0]) + model_arma_result.params[2]*e_hat_3)\n",
    "\n",
    "print('\\nend') \n",
    "print(model_arma.predict(model_arma_result.params, start=model_arma.endog.shape[0]-3,end=model_arma.endog.shape[0]-1))\n",
    "print(model_arma_result.predict(                   start=model_arma.endog.shape[0]-3,end=model_arma.endog.shape[0]-1))\n",
    "print(model_arma_result.params[0] + model_arma_result.params[1]*(train[-4]-model_arma_result.params[0]) + model_arma_result.params[2]*model_arma_result.resid[-4])\n",
    "print(model_arma_result.params[0] + model_arma_result.params[1]*(train[-3]-model_arma_result.params[0]) + model_arma_result.params[2]*model_arma_result.resid[-3])\n",
    "print(model_arma_result.params[0] + model_arma_result.params[1]*(train[-2]-model_arma_result.params[0]) + model_arma_result.params[2]*model_arma_result.resid[-2])\n",
    "\n",
    "print('\\nout of sample predictions') \n",
    "print(model_arma.predict(model_arma_result.params, start=model_arma.endog.shape[0],end=model_arma.endog.shape[0]+2))\n",
    "print(model_arma_result.predict(                   start=model_arma.endog.shape[0],end=model_arma.endog.shape[0]+2))\n",
    "\n",
    "y_n_1 = model_arma_result.params[0] + model_arma_result.params[1]*(train[-1]-model_arma_result.params[0]) + model_arma_result.params[2]*model_arma_result.resid[-1]\n",
    "y_n_2 = model_arma_result.params[0] + model_arma_result.params[1]*(y_n_1-model_arma_result.params[0])\n",
    "y_n_3 = model_arma_result.params[0] + model_arma_result.params[1]*(y_n_2-model_arma_result.params[0])\n",
    "print(y_n_1, y_n_2, y_n_3)"
   ]
  },
  {
   "cell_type": "markdown",
   "metadata": {
    "heading_collapsed": true
   },
   "source": [
    "##### 2.5 One step forward prediction and continuous update"
   ]
  },
  {
   "cell_type": "code",
   "execution_count": 58,
   "metadata": {
    "hidden": true
   },
   "outputs": [
    {
     "name": "stdout",
     "output_type": "stream",
     "text": [
      "model parameters by using only the training data [ 2.30596725e+02  9.77693177e-01 -2.98982933e-02]\n",
      "model parameters by using training + testing data [ 2.52843065e+02  9.93023411e-01 -2.81880348e-02]\n"
     ]
    }
   ],
   "source": [
    "# Option 3 : instead of playing with the endogen variables we could just initialize a new model\n",
    "order_model=(1,1)\n",
    "\n",
    "model_arma = ARMA(endog=train, order=order_model)\n",
    "model_arma_result = model_arma.fit(maxlag=100, ic='aic', trend='c', maxiter=1000)\n",
    "print('model parameters by using only the training data', model_arma_result.params)\n",
    "\n",
    "for i in range(len(test)):\n",
    "    \n",
    "    new_entry = model_arma_result.predict( start=model_arma.endog.shape[0],end=model_arma.endog.shape[0])\n",
    "    model_arma = ARMA(endog=np.append(model_arma.endog.reshape(-1), test[i].reshape(-1)), order=order_model)\n",
    "    model_arma_result = model_arma.fit(maxlag=100, ic='aic', trend='c', maxiter=100)\n",
    "    \n",
    "print('model parameters by using training + testing data', model_arma_result.params)"
   ]
  },
  {
   "cell_type": "code",
   "execution_count": 59,
   "metadata": {
    "hidden": true
   },
   "outputs": [
    {
     "data": {
      "text/plain": [
       "array([ 2.52843065e+02,  9.93023411e-01, -2.81880348e-02])"
      ]
     },
     "execution_count": 59,
     "metadata": {},
     "output_type": "execute_result"
    }
   ],
   "source": [
    "# Check if the approaches above make sence by fitting directly with train + test \n",
    "\n",
    "model_arma = ARMA(endog=np.append(train, test), order=order_model)\n",
    "model_arma_result = model_arma.fit(maxlag=100, ic='aic', trend='c', maxiter=1000)\n",
    "model_arma_result.params"
   ]
  },
  {
   "cell_type": "markdown",
   "metadata": {
    "heading_collapsed": true
   },
   "source": [
    "##### 2.6 Other potential cool methods to check"
   ]
  },
  {
   "cell_type": "code",
   "execution_count": 62,
   "metadata": {
    "hidden": true
   },
   "outputs": [
    {
     "data": {
      "text/plain": [
       "(4767.696025585352, 4786.144189724684, 4774.807164673789)"
      ]
     },
     "execution_count": 62,
     "metadata": {},
     "output_type": "execute_result"
    }
   ],
   "source": [
    "model_arma_result.aic, model_arma_result.bic, model_arma_result.hqic"
   ]
  },
  {
   "cell_type": "code",
   "execution_count": 74,
   "metadata": {
    "hidden": true
   },
   "outputs": [],
   "source": [
    "import itertools\n",
    "p = q = range(0, 4)\n",
    "pq = list(itertools.product(p, q))"
   ]
  },
  {
   "cell_type": "code",
   "execution_count": 76,
   "metadata": {
    "hidden": true
   },
   "outputs": [
    {
     "name": "stdout",
     "output_type": "stream",
     "text": [
      "(0, 0) 7372.393113376376\n",
      "(0, 1) 6536.708965148451\n",
      "(0, 2) 5988.78129055012\n",
      "(0, 3) 5675.959343248822\n",
      "(1, 0) 4766.302742288701\n",
      "(1, 1) 4767.696025585352\n",
      "(1, 2) 4769.104320461249\n",
      "(1, 3) 4770.849368747941\n",
      "(2, 0) 4767.663054714243\n",
      "(2, 1) 4769.174261617076\n",
      "(2, 2) 4770.75965034263\n",
      "(2, 3) 4772.593107633718\n",
      "(3, 0) 4769.157664798933\n",
      "(3, 1) 4771.030418972355\n",
      "(3, 2) 4770.561888743701\n",
      "(3, 3) 4774.316334403911\n"
     ]
    }
   ],
   "source": [
    "# pick the model with the lowest aic\n",
    "\n",
    "for pq_el in pq:\n",
    "    model_arma = ARMA(endog=np.append(train, test), order=pq_el)\n",
    "    model_arma_result = model_arma.fit(trend='c', maxiter=1000)\n",
    "    print(pq_el, model_arma_result.aic)"
   ]
  },
  {
   "cell_type": "markdown",
   "metadata": {},
   "source": [
    "### 3 ARIMA"
   ]
  },
  {
   "cell_type": "markdown",
   "metadata": {
    "heading_collapsed": true
   },
   "source": [
    "##### 3.1 Load data"
   ]
  },
  {
   "cell_type": "code",
   "execution_count": 15,
   "metadata": {
    "hidden": true
   },
   "outputs": [
    {
     "data": {
      "text/html": [
       "<div>\n",
       "<style scoped>\n",
       "    .dataframe tbody tr th:only-of-type {\n",
       "        vertical-align: middle;\n",
       "    }\n",
       "\n",
       "    .dataframe tbody tr th {\n",
       "        vertical-align: top;\n",
       "    }\n",
       "\n",
       "    .dataframe thead th {\n",
       "        text-align: right;\n",
       "    }\n",
       "</style>\n",
       "<table border=\"1\" class=\"dataframe\">\n",
       "  <thead>\n",
       "    <tr style=\"text-align: right;\">\n",
       "      <th></th>\n",
       "      <th>Open</th>\n",
       "      <th>High</th>\n",
       "      <th>Low</th>\n",
       "      <th>Close</th>\n",
       "      <th>Volume</th>\n",
       "      <th>OpenInt</th>\n",
       "    </tr>\n",
       "    <tr>\n",
       "      <th>Date</th>\n",
       "      <th></th>\n",
       "      <th></th>\n",
       "      <th></th>\n",
       "      <th></th>\n",
       "      <th></th>\n",
       "      <th></th>\n",
       "    </tr>\n",
       "  </thead>\n",
       "  <tbody>\n",
       "    <tr>\n",
       "      <th>2010-06-28</th>\n",
       "      <td>17.0</td>\n",
       "      <td>17.0</td>\n",
       "      <td>17.00</td>\n",
       "      <td>17.00</td>\n",
       "      <td>0</td>\n",
       "      <td>0</td>\n",
       "    </tr>\n",
       "    <tr>\n",
       "      <th>2010-06-29</th>\n",
       "      <td>19.0</td>\n",
       "      <td>25.0</td>\n",
       "      <td>17.54</td>\n",
       "      <td>23.89</td>\n",
       "      <td>18783276</td>\n",
       "      <td>0</td>\n",
       "    </tr>\n",
       "  </tbody>\n",
       "</table>\n",
       "</div>"
      ],
      "text/plain": [
       "            Open  High    Low  Close    Volume  OpenInt\n",
       "Date                                                   \n",
       "2010-06-28  17.0  17.0  17.00  17.00         0        0\n",
       "2010-06-29  19.0  25.0  17.54  23.89  18783276        0"
      ]
     },
     "metadata": {},
     "output_type": "display_data"
    },
    {
     "data": {
      "text/html": [
       "<div>\n",
       "<style scoped>\n",
       "    .dataframe tbody tr th:only-of-type {\n",
       "        vertical-align: middle;\n",
       "    }\n",
       "\n",
       "    .dataframe tbody tr th {\n",
       "        vertical-align: top;\n",
       "    }\n",
       "\n",
       "    .dataframe thead th {\n",
       "        text-align: right;\n",
       "    }\n",
       "</style>\n",
       "<table border=\"1\" class=\"dataframe\">\n",
       "  <thead>\n",
       "    <tr style=\"text-align: right;\">\n",
       "      <th></th>\n",
       "      <th>Open</th>\n",
       "      <th>High</th>\n",
       "      <th>Low</th>\n",
       "      <th>Close</th>\n",
       "      <th>Volume</th>\n",
       "      <th>OpenInt</th>\n",
       "    </tr>\n",
       "    <tr>\n",
       "      <th>Date</th>\n",
       "      <th></th>\n",
       "      <th></th>\n",
       "      <th></th>\n",
       "      <th></th>\n",
       "      <th></th>\n",
       "      <th></th>\n",
       "    </tr>\n",
       "  </thead>\n",
       "  <tbody>\n",
       "    <tr>\n",
       "      <th>2017-11-09</th>\n",
       "      <td>302.5</td>\n",
       "      <td>304.46</td>\n",
       "      <td>296.30</td>\n",
       "      <td>302.99</td>\n",
       "      <td>5440335</td>\n",
       "      <td>0</td>\n",
       "    </tr>\n",
       "    <tr>\n",
       "      <th>2017-11-10</th>\n",
       "      <td>302.5</td>\n",
       "      <td>308.36</td>\n",
       "      <td>301.85</td>\n",
       "      <td>302.99</td>\n",
       "      <td>4621912</td>\n",
       "      <td>0</td>\n",
       "    </tr>\n",
       "  </tbody>\n",
       "</table>\n",
       "</div>"
      ],
      "text/plain": [
       "             Open    High     Low   Close   Volume  OpenInt\n",
       "Date                                                       \n",
       "2017-11-09  302.5  304.46  296.30  302.99  5440335        0\n",
       "2017-11-10  302.5  308.36  301.85  302.99  4621912        0"
      ]
     },
     "metadata": {},
     "output_type": "display_data"
    }
   ],
   "source": [
    "data_dir = os.path.join('data', 'kaggle_stocks', 'Stocks')\n",
    "\n",
    "dateparse = lambda x: datetime.datetime.strptime(x, '%Y-%m-%d')\n",
    "\n",
    "data = pd.read_csv(os.path.join(data_dir, 'tsla.us.txt'), index_col=0, date_parser=dateparse)\n",
    "\n",
    "train = data['Open']['2014-07-01':'2017-04-01'].values\n",
    "test = data['Open']['2017-04-01':].values[:50]\n",
    "\n",
    "display(data.head(2))\n",
    "display(data.tail(2))"
   ]
  },
  {
   "cell_type": "markdown",
   "metadata": {
    "heading_collapsed": true
   },
   "source": [
    "##### 3.2 Save a model"
   ]
  },
  {
   "cell_type": "code",
   "execution_count": 16,
   "metadata": {
    "hidden": true
   },
   "outputs": [],
   "source": [
    "from statsmodels.tsa.arima_model import ARIMA\n",
    "\n",
    "model_arima = ARIMA(endog=train, order=(1,0,1))\n",
    "model_arima_result = model_arima.fit(trend='c', maxiter=1000)\n",
    "\n",
    "model_arima_dir = ('model_3_ar_arima_etx')\n",
    "if not os.path.exists(model_arima_dir):\n",
    "    os.makedirs(model_arima_dir)\n",
    "\n",
    "model_arima_result.save( os.path.join(model_arima_dir, 'model_arima.pickle'), remove_data=False)"
   ]
  },
  {
   "cell_type": "markdown",
   "metadata": {
    "heading_collapsed": true
   },
   "source": [
    "##### 3.3 Algorithm check"
   ]
  },
  {
   "cell_type": "markdown",
   "metadata": {
    "hidden": true
   },
   "source": [
    "Consider first the case where `(p,d,q) = (1,0,1)`"
   ]
  },
  {
   "cell_type": "code",
   "execution_count": 17,
   "metadata": {
    "hidden": true
   },
   "outputs": [
    {
     "name": "stdout",
     "output_type": "stream",
     "text": [
      "model parameters\n",
      "[ 2.30596725e+02  9.77693177e-01 -2.98982933e-02]\n"
     ]
    }
   ],
   "source": [
    "print('model parameters')\n",
    "print(model_arima_result.params)"
   ]
  },
  {
   "cell_type": "code",
   "execution_count": 18,
   "metadata": {
    "hidden": true,
    "scrolled": true
   },
   "outputs": [
    {
     "data": {
      "text/plain": [
       "((694,), (694,))"
      ]
     },
     "execution_count": 18,
     "metadata": {},
     "output_type": "execute_result"
    }
   ],
   "source": [
    "train.shape, model_arima.endog.shape"
   ]
  },
  {
   "cell_type": "code",
   "execution_count": 19,
   "metadata": {
    "hidden": true
   },
   "outputs": [
    {
     "name": "stdout",
     "output_type": "stream",
     "text": [
      "\n",
      "beginning (first entry can not be predicted)\n",
      "[230.59672543 242.17876459 240.48089012 231.6914962  227.69439669]\n",
      "[230.59672543 242.17876459 240.48089012 231.6914962  227.69439669]\n",
      "230.5967254250565 11.863274574943517 11.863274574943517\n",
      "241.84067636753826\n",
      "240.48092878205932\n",
      "231.6914964081344\n",
      "227.694396689746\n",
      "\n",
      "end\n",
      "[275.46859702 277.18914916 276.95625227]\n",
      "[275.46859702 277.18914916 276.95625227]\n",
      "275.4685970151954\n",
      "277.18914916363195\n",
      "276.9562522714625\n",
      "\n",
      "out of sample predictions\n",
      "[277.60326752 276.55470089 275.52952446]\n",
      "[277.60326752 276.55470089 275.52952446]\n",
      "277.60326752140605 276.55470089497766 275.5295244589573\n"
     ]
    }
   ],
   "source": [
    "print('\\nbeginning (first entry can not be predicted)')\n",
    "print(model_arima.predict(model_arima_result.params, start=0,end=4))\n",
    "print(model_arima_result.predict(                    start=0,end=4))\n",
    "\n",
    "y_hat_0 = model_arima_result.params[0] + model_arima_result.params[1]*0 + model_arima_result.params[2]*0\n",
    "e_hat_0 = train[0]-y_hat_0\n",
    "print(y_hat_0, e_hat_0, model_arima_result.resid[0])\n",
    "# maybe some modified version of the error was used for the first `q` errors=\n",
    "print(model_arima_result.params[0] + model_arima_result.params[1]*(train[0]-model_arima_result.params[0]) + model_arima_result.params[2]*e_hat_0)\n",
    "e_hat_1 = model_arima_result.resid[1]\n",
    "print(model_arima_result.params[0] + model_arima_result.params[1]*(train[1]-model_arima_result.params[0]) + model_arima_result.params[2]*e_hat_1)\n",
    "e_hat_2 = model_arima_result.resid[2]\n",
    "print(model_arima_result.params[0] + model_arima_result.params[1]*(train[2]-model_arima_result.params[0]) + model_arima_result.params[2]*e_hat_2)\n",
    "e_hat_3 = model_arima_result.resid[3]\n",
    "print(model_arima_result.params[0] + model_arima_result.params[1]*(train[3]-model_arima_result.params[0]) + model_arima_result.params[2]*e_hat_3)\n",
    "\n",
    "print('\\nend') \n",
    "print(model_arima.predict(model_arima_result.params, start=model_arima.endog.shape[0]-3,end=model_arima.endog.shape[0]-1))\n",
    "print(model_arima_result.predict(                    start=model_arima.endog.shape[0]-3,end=model_arima.endog.shape[0]-1))\n",
    "print(model_arima_result.params[0] + model_arima_result.params[1]*(train[-4]-model_arima_result.params[0]) + model_arima_result.params[2]*model_arima_result.resid[-4])\n",
    "print(model_arima_result.params[0] + model_arima_result.params[1]*(train[-3]-model_arima_result.params[0]) + model_arima_result.params[2]*model_arima_result.resid[-3])\n",
    "print(model_arima_result.params[0] + model_arima_result.params[1]*(train[-2]-model_arima_result.params[0]) + model_arima_result.params[2]*model_arima_result.resid[-2])\n",
    "\n",
    "print('\\nout of sample predictions') \n",
    "print(model_arima.predict(model_arima_result.params, start=model_arima.endog.shape[0],end=model_arima.endog.shape[0]+2))\n",
    "print(model_arima_result.predict(                    start=model_arima.endog.shape[0],end=model_arima.endog.shape[0]+2))\n",
    "\n",
    "\n",
    "y_n_1 = model_arima_result.params[0] + model_arima_result.params[1]*(train[-1]- model_arima_result.params[0]) + model_arima_result.params[2]*model_arima_result.resid[-1]\n",
    "y_n_2 = model_arima_result.params[0] + model_arima_result.params[1]*(y_n_1    - model_arima_result.params[0])\n",
    "y_n_3 = model_arima_result.params[0] + model_arima_result.params[1]*(y_n_2    - model_arima_result.params[0])\n",
    "print(y_n_1, y_n_2, y_n_3)"
   ]
  },
  {
   "cell_type": "markdown",
   "metadata": {
    "hidden": true
   },
   "source": [
    "Consider the case where `(p,d,q) = (1,1,1)`   \n",
    "Slight differences which I can not explain."
   ]
  },
  {
   "cell_type": "code",
   "execution_count": 20,
   "metadata": {
    "hidden": true
   },
   "outputs": [],
   "source": [
    "model_arima = ARIMA(endog=train, order=(1,1,1))\n",
    "model_arima_result = model_arima.fit(trend='c', maxiter=1000)"
   ]
  },
  {
   "cell_type": "code",
   "execution_count": 21,
   "metadata": {
    "hidden": true
   },
   "outputs": [
    {
     "data": {
      "text/plain": [
       "array([ 0.05231727, -0.22121302,  0.17702628])"
      ]
     },
     "execution_count": 21,
     "metadata": {},
     "output_type": "execute_result"
    }
   ],
   "source": [
    "model_arima_result.params"
   ]
  },
  {
   "cell_type": "code",
   "execution_count": 23,
   "metadata": {
    "hidden": true
   },
   "outputs": [
    {
     "name": "stdout",
     "output_type": "stream",
     "text": [
      "\n",
      "beginning (first entry can not be predicted)\n",
      "[0.05231727 0.13483692 0.4475289  0.15876347]\n",
      "[0.05231727 0.13483692 0.4475289  0.15876347]\n",
      "0.05231726849383878 0.13416512752140752 0.4474225808039234 0.15876190256139755\n"
     ]
    }
   ],
   "source": [
    "print('\\nbeginning (first entry can not be predicted)')\n",
    "# print(model_arima.predict(model_arima_result.params, start=1,end=4,typ='levels'))\n",
    "# print(model_arima_result.predict(                    start=1,end=4,typ='levels'))\n",
    "print(model_arima.predict(model_arima_result.params, start=1,end=4,typ='linear'))\n",
    "print(model_arima_result.predict(                    start=1,end=4,typ='linear'))\n",
    "\n",
    "\n",
    "y_hats  = np.append(np.nan, model_arima_result.predict( start=1,end=5,typ='levels'))\n",
    "dy_hats = np.append(np.nan, model_arima_result.predict( start=1,end=5,typ='linear')) \n",
    "ys      = train[:5]\n",
    "\n",
    "dy_1     = train[1] - train[0]\n",
    "dy_1_hat = model_arima_result.params[0] + model_arima_result.params[1]*0 + model_arima_result.params[2]*0\n",
    "y_1_hat  = train[0] + dy_1_hat\n",
    "eps_1    = dy_1 - dy_hats[1] # - dy_1_hat  \n",
    "\n",
    "dy_2     = train[2] - train[1]\n",
    "dy_2_hat = model_arima_result.params[0] + model_arima_result.params[1]*(dy_1-model_arima_result.params[0]) + model_arima_result.params[2]*eps_1\n",
    "y_2_hat  = train[1] + dy_2_hat\n",
    "eps_2    = dy_2 - dy_hats[2]  # - dy_2_hat \n",
    "\n",
    "dy_3     = train[3] - train[2]\n",
    "dy_3_hat = model_arima_result.params[0] + model_arima_result.params[1]*(dy_2-model_arima_result.params[0]) + model_arima_result.params[2]*eps_2\n",
    "y_3_hat  = train[2] + dy_3_hat\n",
    "eps_3    = dy_3 - dy_hats[3] # - dy_3_hat\n",
    "\n",
    "dy_4     = train[4] - train[3]\n",
    "dy_4_hat = model_arima_result.params[0] + model_arima_result.params[1]*(dy_3-model_arima_result.params[0]) + model_arima_result.params[2]*eps_3\n",
    "y_4_hat  = train[3] + dy_4_hat\n",
    "eps_4    = dy_4 - dy_4_hat\n",
    "\n",
    "dy_5     = train[5] - train[4]\n",
    "dy_5_hat = model_arima_result.params[0] + model_arima_result.params[1]*(dy_4-model_arima_result.params[0]) + model_arima_result.params[2]*eps_4\n",
    "y_5_hat  = train[4] + dy_5_hat\n",
    "eps_5    = dy_5 - dy_5_hat\n",
    "\n",
    "# print(y_1_hat, y_2_hat, y_3_hat, y_4_hat, y_5_hat)\n",
    "print(dy_1_hat, dy_2_hat, dy_3_hat, dy_4_hat)"
   ]
  },
  {
   "cell_type": "code",
   "execution_count": 24,
   "metadata": {
    "hidden": true
   },
   "outputs": [
    {
     "name": "stdout",
     "output_type": "stream",
     "text": [
      "\n",
      "end\n",
      "[-0.63191544  0.11742968  0.05635841]\n",
      "[-0.63191544  0.11742968  0.05635841]\n",
      "-0.6319154357553098 0.11742967500864565 0.056358412281008435\n"
     ]
    }
   ],
   "source": [
    "print('\\nend') \n",
    "print(model_arima.predict(model_arima_result.params, start=train.shape[0]-3,end=train.shape[0]-1, typ='linear'))\n",
    "print(model_arima_result.predict(                    start=train.shape[0]-3,end=train.shape[0]-1, typ='linear'))\n",
    "\n",
    "\n",
    "y_hats  = model_arima_result.predict( start=1,end=train.shape[0]-1,typ='levels')\n",
    "dy_hats = model_arima_result.predict( start=1,end=train.shape[0]-1,typ='linear')\n",
    "\n",
    "dy_m4     = train[-4] - train[-5]\n",
    "eps_m4    = dy_m4 - dy_hats[-4] # dy_m4 - dy_m4_hat; I do not have them so I will use a different trick\n",
    "\n",
    "dy_m3     = train[-3] - train[-4]  # value that we want to predict \n",
    "dy_m3_hat = model_arima_result.params[0] + model_arima_result.params[1]*(dy_m4-model_arima_result.params[0]) + model_arima_result.params[2]*eps_m4\n",
    "y_m3_hat  = train[-4] + dy_m3_hat\n",
    "eps_m3    = dy_m3 - dy_m3_hat\n",
    "\n",
    "dy_m2     = train[-2] - train[-3]  # value that we want to predict \n",
    "dy_m2_hat = model_arima_result.params[0] + model_arima_result.params[1]*(dy_m3-model_arima_result.params[0]) + model_arima_result.params[2]*eps_m3\n",
    "y_m2_hat  = train[-3] + dy_m2_hat\n",
    "eps_m2    = dy_m2 - dy_m2_hat\n",
    "\n",
    "dy_m1     = train[-1] - train[-2]  # value that we want to predict \n",
    "dy_m1_hat = model_arima_result.params[0] + model_arima_result.params[1]*(dy_m2-model_arima_result.params[0]) + model_arima_result.params[2]*eps_m2\n",
    "y_m1_hat  = train[-2] + dy_m1_hat\n",
    "eps_m1    = dy_m1 - dy_m1_hat\n",
    "\n",
    "# print(y_m3_hat, y_m2_hat, y_m1_hat)\n",
    "print(dy_m3_hat, dy_m2_hat, dy_m1_hat)"
   ]
  },
  {
   "cell_type": "code",
   "execution_count": 25,
   "metadata": {
    "hidden": true
   },
   "outputs": [
    {
     "name": "stdout",
     "output_type": "stream",
     "text": [
      "\n",
      "out of sample predictions\n",
      "[0.02342476 0.05870867 0.05090341]\n",
      "[0.02342476 0.05870867 0.05090341]\n",
      "0.02342475963735148 0.05870866766877823 0.050903407772489744\n"
     ]
    }
   ],
   "source": [
    "print('\\nout of sample predictions') \n",
    "print(model_arima.predict(model_arima_result.params, start=train.shape[0],end=train.shape[0]+2))\n",
    "print(model_arima_result.predict(                    start=train.shape[0],end=train.shape[0]+2))\n",
    "\n",
    "\n",
    "# y_n_1 = model_arima_result.params[0] + model_arima_result.params[1]*(train[-1]- model_arima_result.params[0]) + model_arima_result.params[2]*model_arima_result.resid[-1]\n",
    "# y_n_2 = model_arima_result.params[0] + model_arima_result.params[1]*(y_n_1    - model_arima_result.params[0])\n",
    "# y_n_3 = model_arima_result.params[0] + model_arima_result.params[1]*(y_n_2    - model_arima_result.params[0])\n",
    "# print(y_n_1, y_n_2, y_n_3)\n",
    "\n",
    "\n",
    "y_hats  = model_arima_result.predict( start=1,end=train.shape[0]-1,typ='levels')\n",
    "dy_hats = model_arima_result.predict( start=1,end=train.shape[0]-1,typ='linear')\n",
    "\n",
    "dy_m1     = train[-1] - train[-2]\n",
    "eps_m1    = dy_m1 - dy_hats[-1]\n",
    "\n",
    "# first out of sample element\n",
    "dy_m0_hat = model_arima_result.params[0] + model_arima_result.params[1]*(dy_m1-model_arima_result.params[0]) + model_arima_result.params[2]*eps_m1\n",
    "y_m0_hat  = train[-1] + dy_m0_hat\n",
    "eps_m0    = 0 # can not be estimated\n",
    "\n",
    "# sec out of sample element\n",
    "dy_n2_hat = model_arima_result.params[0] + model_arima_result.params[1]*(dy_m0_hat-model_arima_result.params[0]) + model_arima_result.params[2]*eps_m0\n",
    "eps_n2    = 0 # can not be estimated\n",
    "\n",
    "# third out of sample element\n",
    "dy_n3_hat = model_arima_result.params[0] + model_arima_result.params[1]*(dy_n2_hat-model_arima_result.params[0]) + model_arima_result.params[2]*eps_n2\n",
    "eps_n3    = 0 # can not be estimated\n",
    "\n",
    "# print(y_m3_hat, y_m2_hat, y_m1_hat)\n",
    "print(dy_m0_hat, dy_n2_hat, dy_n3_hat)"
   ]
  },
  {
   "cell_type": "code",
   "execution_count": null,
   "metadata": {
    "hidden": true
   },
   "outputs": [],
   "source": [
    "print(model_arima.predict(model_arima_result.params, start=train.shape[0],end=train.shape[0]+2))\n",
    "print(model_arima_result.predict(                    start=train.shape[0],end=train.shape[0]+2))"
   ]
  },
  {
   "cell_type": "code",
   "execution_count": 89,
   "metadata": {
    "hidden": true,
    "scrolled": true
   },
   "outputs": [
    {
     "data": {
      "text/plain": [
       "(array([278.75342476, 278.81213343, 278.86303684]),\n",
       " array([5.81111396, 8.03864018, 9.8032977 ]),\n",
       " array([[267.36385068, 290.14299884],\n",
       "        [263.05668818, 294.56757867],\n",
       "        [259.64892641, 298.07714726]]))"
      ]
     },
     "execution_count": 89,
     "metadata": {},
     "output_type": "execute_result"
    }
   ],
   "source": [
    "model_arima_result.forecast(steps=3)"
   ]
  },
  {
   "cell_type": "code",
   "execution_count": 91,
   "metadata": {
    "hidden": true
   },
   "outputs": [
    {
     "name": "stdout",
     "output_type": "stream",
     "text": [
      "[278.75342476 278.81213343 278.86303684]\n"
     ]
    }
   ],
   "source": [
    "print(model_arima.predict(model_arima_result.params, start=train.shape[0],end=train.shape[0]+2, typ='levels'))"
   ]
  },
  {
   "cell_type": "markdown",
   "metadata": {
    "hidden": true
   },
   "source": [
    "For `ARIMA` models with `(p,d,q)=(1,1,1)` I my predictions are always smaller than the models predictions by about `0.01`.   \n",
    "The predictions are exact for the case `(p,0,q)=(1,0,1)`"
   ]
  },
  {
   "cell_type": "markdown",
   "metadata": {
    "heading_collapsed": true
   },
   "source": [
    "##### 3.6 One step forward prediction"
   ]
  },
  {
   "cell_type": "code",
   "execution_count": 117,
   "metadata": {
    "hidden": true
   },
   "outputs": [
    {
     "name": "stdout",
     "output_type": "stream",
     "text": [
      "model parameters by using only the training data [ 0.05231727 -0.22121302  0.17702628]\n",
      "model parameters by using training + testing data [ 0.176182   -0.26820164  0.22686366]\n"
     ]
    }
   ],
   "source": [
    "# Option 3 : instead of playing with the endogen variables we could just initialize a new model\n",
    "order_model=(1,1,1)\n",
    "\n",
    "model_arima = ARIMA(endog=train, order=order_model)\n",
    "model_arima_result = model_arima.fit(trend='c', maxiter=1000)\n",
    "new_train = train\n",
    "print('model parameters by using only the training data', model_arma_result.params)\n",
    "\n",
    "for i in range(len(test)):\n",
    "    \n",
    "    new_entry = model_arima_result.predict( start=new_train.shape[0],end=new_train.shape[0], typ='levels')\n",
    "    new_train = np.append(train, test[i].reshape(-1))\n",
    "    model_arima = ARIMA(endog=new_train, order=order_model)\n",
    "    model_arima_result = model_arima.fit(trend='c', maxiter=1000)\n",
    "\n",
    "print('model parameters by using training + testing data', model_arima_result.params)"
   ]
  },
  {
   "cell_type": "markdown",
   "metadata": {
    "heading_collapsed": true
   },
   "source": [
    "##### 3.7 use IC to determine best parameters"
   ]
  },
  {
   "cell_type": "code",
   "execution_count": 142,
   "metadata": {
    "hidden": true
   },
   "outputs": [
    {
     "data": {
      "text/plain": [
       "array([ 0.05231727, -0.22121302,  0.17702628])"
      ]
     },
     "execution_count": 142,
     "metadata": {},
     "output_type": "execute_result"
    }
   ],
   "source": [
    "model_arima_result.params"
   ]
  },
  {
   "cell_type": "code",
   "execution_count": 145,
   "metadata": {
    "hidden": true
   },
   "outputs": [
    {
     "data": {
      "text/plain": [
       "array([[-0.364701  ,  0.46933554],\n",
       "       [-1.23768097,  0.79525492],\n",
       "       [-0.84729441,  1.20134698]])"
      ]
     },
     "execution_count": 145,
     "metadata": {},
     "output_type": "execute_result"
    }
   ],
   "source": [
    "model_arima_result.conf_int(alpha=0.05)"
   ]
  },
  {
   "cell_type": "code",
   "execution_count": null,
   "metadata": {
    "hidden": true
   },
   "outputs": [],
   "source": [
    "# order_model=(1,1,1)\n",
    "\n",
    "# model_arima = ARIMA(endog=train, order=order_model)\n",
    "# model_arima_result = model_arima.fit(trend='c', maxiter=1000)"
   ]
  },
  {
   "cell_type": "code",
   "execution_count": 122,
   "metadata": {
    "hidden": true
   },
   "outputs": [
    {
     "data": {
      "text/plain": [
       "4638.760489216148"
      ]
     },
     "execution_count": 122,
     "metadata": {},
     "output_type": "execute_result"
    }
   ],
   "source": [
    "model_arima_result.aic"
   ]
  },
  {
   "cell_type": "code",
   "execution_count": 134,
   "metadata": {
    "hidden": true,
    "scrolled": true
   },
   "outputs": [
    {
     "name": "stdout",
     "output_type": "stream",
     "text": [
      "(0, 0, 0) \t aic: 6487.151122\n",
      "(0, 0, 1) \t aic: 5750.019837\n",
      "(0, 0, 2) \t aic: 5305.691551\n",
      "(0, 0, 3) \t aic: 5055.758206\n",
      "(0, 0, 4) \t aic: 4861.325423\n",
      "(0, 1, 0) \t aic: 4411.118690\n",
      "(0, 1, 1) \t aic: 4411.872188\n",
      "(0, 1, 2) \t aic: 4413.360872\n",
      "(0, 1, 3) \t aic: 4414.507867\n",
      "(0, 1, 4) \t aic: 4415.868489\n",
      "(0, 2, 0) \t aic: 4914.773411\n",
      "(0, 2, 1) \t aic: 4413.714461\n",
      "(0, 2, 2) \t aic: na\n",
      "(0, 2, 3) \t aic: na\n",
      "(0, 2, 4) \t aic: na\n",
      "(1, 0, 0) \t aic: 4414.661787\n",
      "(1, 0, 1) \t aic: 4416.027800\n",
      "(1, 0, 2) \t aic: 4417.019317\n",
      "(1, 0, 3) \t aic: 4417.315176\n",
      "(1, 0, 4) \t aic: 4419.129047\n",
      "(1, 1, 0) \t aic: 4411.812722\n",
      "(1, 1, 1) \t aic: 4413.695311\n",
      "(1, 1, 2) \t aic: na\n",
      "(1, 1, 3) \t aic: na\n",
      "(1, 1, 4) \t aic: na\n",
      "(1, 2, 0) \t aic: 4686.200725\n",
      "(1, 2, 1) \t aic: 4414.444024\n",
      "(1, 2, 2) \t aic: 4416.626552\n",
      "(1, 2, 3) \t aic: 4418.086872\n"
     ]
    },
    {
     "name": "stderr",
     "output_type": "stream",
     "text": [
      "/anaconda3/envs/ts/lib/python3.7/site-packages/statsmodels/base/model.py:488: HessianInversionWarning: Inverting hessian failed, no bse or cov_params available\n",
      "  'available', HessianInversionWarning)\n"
     ]
    },
    {
     "name": "stdout",
     "output_type": "stream",
     "text": [
      "(1, 2, 4) \t aic: 4419.557284\n",
      "(2, 0, 0) \t aic: 4415.981818\n",
      "(2, 0, 1) \t aic: 4417.783304\n",
      "(2, 0, 2) \t aic: 4414.312564\n",
      "(2, 0, 3) \t aic: 4419.260988\n",
      "(2, 0, 4) \t aic: 4420.671863\n",
      "(2, 1, 0) \t aic: 4413.490293\n",
      "(2, 1, 1) \t aic: 4415.293643\n",
      "(2, 1, 2) \t aic: 4408.814051\n",
      "(2, 1, 3) \t aic: na\n",
      "(2, 1, 4) \t aic: na\n",
      "(2, 2, 0) \t aic: 4593.659672\n",
      "(2, 2, 1) \t aic: 4416.100704\n",
      "(2, 2, 2) \t aic: 4417.886274\n",
      "(2, 2, 3) \t aic: 4411.386941\n",
      "(2, 2, 4) \t aic: 4412.062858\n",
      "(3, 0, 0) \t aic: 4417.203451\n",
      "(3, 0, 1) \t aic: 4418.603784\n",
      "(3, 0, 2) \t aic: 4416.413174\n"
     ]
    },
    {
     "name": "stderr",
     "output_type": "stream",
     "text": [
      "/anaconda3/envs/ts/lib/python3.7/site-packages/statsmodels/base/model.py:488: HessianInversionWarning: Inverting hessian failed, no bse or cov_params available\n",
      "  'available', HessianInversionWarning)\n"
     ]
    },
    {
     "name": "stdout",
     "output_type": "stream",
     "text": [
      "(3, 0, 3) \t aic: 4417.855488\n",
      "(3, 0, 4) \t aic: 4419.442032\n",
      "(3, 1, 0) \t aic: 4414.585437\n",
      "(3, 1, 1) \t aic: 4416.520229\n",
      "(3, 1, 2) \t aic: na\n",
      "(3, 1, 3) \t aic: 4409.098858\n",
      "(3, 1, 4) \t aic: na\n",
      "(3, 2, 0) \t aic: 4560.672981\n",
      "(3, 2, 1) \t aic: 4417.155668\n",
      "(3, 2, 2) \t aic: na\n",
      "(3, 2, 3) \t aic: na\n",
      "(3, 2, 4) \t aic: 4414.125305\n",
      "(4, 0, 0) \t aic: 4417.545737\n",
      "(4, 0, 1) \t aic: 4419.528023\n",
      "(4, 0, 2) \t aic: 4419.703309\n"
     ]
    },
    {
     "name": "stderr",
     "output_type": "stream",
     "text": [
      "/anaconda3/envs/ts/lib/python3.7/site-packages/statsmodels/base/model.py:508: ConvergenceWarning: Maximum Likelihood optimization failed to converge. Check mle_retvals\n",
      "  \"Check mle_retvals\", ConvergenceWarning)\n"
     ]
    },
    {
     "name": "stdout",
     "output_type": "stream",
     "text": [
      "(4, 0, 3) \t aic: 4419.711575\n",
      "(4, 0, 4) \t aic: 4423.808017\n",
      "(4, 1, 0) \t aic: 4416.252425\n",
      "(4, 1, 1) \t aic: 4417.189970\n",
      "(4, 1, 2) \t aic: 4417.203681\n",
      "(4, 1, 3) \t aic: 4420.163038\n",
      "(4, 1, 4) \t aic: na\n",
      "(4, 2, 0) \t aic: 4548.814449\n",
      "(4, 2, 1) \t aic: 4418.856207\n",
      "(4, 2, 2) \t aic: 4420.327050\n",
      "(4, 2, 3) \t aic: na\n",
      "(4, 2, 4) \t aic: nan\n"
     ]
    },
    {
     "name": "stderr",
     "output_type": "stream",
     "text": [
      "/anaconda3/envs/ts/lib/python3.7/site-packages/statsmodels/base/model.py:488: HessianInversionWarning: Inverting hessian failed, no bse or cov_params available\n",
      "  'available', HessianInversionWarning)\n"
     ]
    }
   ],
   "source": [
    "import itertools\n",
    "p = range(0, 5)\n",
    "d = range(0, 3)\n",
    "q = range(0, 5)\n",
    "list_aic = []\n",
    "\n",
    "for pdq in list(itertools.product(p, d, q)):\n",
    "    \n",
    "    try:\n",
    "        model_arima = ARIMA(endog=train, order=pdq)\n",
    "        model_arima_result = model_arima.fit(trend='c', maxiter=1000)\n",
    "        aic = model_arima_result.aic\n",
    "        print('{0:s} \\t aic: {1:f}'.format(str(pdq), aic)) \n",
    "    except:\n",
    "        aic = None\n",
    "        print('{0:s} \\t aic: na'.format(str(pdq))) \n",
    "        \n",
    "    list_aic.append((pdq, aic))"
   ]
  },
  {
   "cell_type": "code",
   "execution_count": 136,
   "metadata": {
    "hidden": true
   },
   "outputs": [
    {
     "data": {
      "text/plain": [
       "((2, 1, 2), 4408.8140510092535)"
      ]
     },
     "execution_count": 136,
     "metadata": {},
     "output_type": "execute_result"
    }
   ],
   "source": [
    "import operator\n",
    "\n",
    "list_aic_filtered = list(filter(lambda x: x[1] is not None, list_aic))\n",
    "min(list_aic_filtered, key=operator.itemgetter(1))"
   ]
  },
  {
   "cell_type": "code",
   "execution_count": null,
   "metadata": {
    "hidden": true
   },
   "outputs": [],
   "source": []
  },
  {
   "cell_type": "code",
   "execution_count": 131,
   "metadata": {
    "hidden": true
   },
   "outputs": [
    {
     "ename": "TypeError",
     "evalue": "unsupported format string passed to NoneType.__format__",
     "output_type": "error",
     "traceback": [
      "\u001b[0;31m---------------------------------------------------------------------------\u001b[0m",
      "\u001b[0;31mTypeError\u001b[0m                                 Traceback (most recent call last)",
      "\u001b[0;32m<ipython-input-131-9c5fc35a2098>\u001b[0m in \u001b[0;36m<module>\u001b[0;34m\u001b[0m\n\u001b[0;32m----> 1\u001b[0;31m \u001b[0mprint\u001b[0m\u001b[0;34m(\u001b[0m\u001b[0;34m'aaaa {0:f} bbb'\u001b[0m\u001b[0;34m.\u001b[0m\u001b[0mformat\u001b[0m\u001b[0;34m(\u001b[0m\u001b[0;32mNone\u001b[0m\u001b[0;34m)\u001b[0m\u001b[0;34m)\u001b[0m\u001b[0;34m\u001b[0m\u001b[0;34m\u001b[0m\u001b[0m\n\u001b[0m",
      "\u001b[0;31mTypeError\u001b[0m: unsupported format string passed to NoneType.__format__"
     ]
    }
   ],
   "source": [
    "print('aaaa {0:f} bbb'.format(None))"
   ]
  },
  {
   "cell_type": "markdown",
   "metadata": {
    "heading_collapsed": true
   },
   "source": [
    "### 4 VAR"
   ]
  },
  {
   "cell_type": "code",
   "execution_count": 138,
   "metadata": {
    "hidden": true,
    "scrolled": true
   },
   "outputs": [
    {
     "data": {
      "text/html": [
       "<div>\n",
       "<style scoped>\n",
       "    .dataframe tbody tr th:only-of-type {\n",
       "        vertical-align: middle;\n",
       "    }\n",
       "\n",
       "    .dataframe tbody tr th {\n",
       "        vertical-align: top;\n",
       "    }\n",
       "\n",
       "    .dataframe thead th {\n",
       "        text-align: right;\n",
       "    }\n",
       "</style>\n",
       "<table border=\"1\" class=\"dataframe\">\n",
       "  <thead>\n",
       "    <tr style=\"text-align: right;\">\n",
       "      <th></th>\n",
       "      <th>Open</th>\n",
       "      <th>High</th>\n",
       "      <th>Low</th>\n",
       "      <th>Close</th>\n",
       "      <th>Volume</th>\n",
       "      <th>OpenInt</th>\n",
       "    </tr>\n",
       "    <tr>\n",
       "      <th>Date</th>\n",
       "      <th></th>\n",
       "      <th></th>\n",
       "      <th></th>\n",
       "      <th></th>\n",
       "      <th></th>\n",
       "      <th></th>\n",
       "    </tr>\n",
       "  </thead>\n",
       "  <tbody>\n",
       "    <tr>\n",
       "      <th>2010-06-28</th>\n",
       "      <td>17.0</td>\n",
       "      <td>17.0</td>\n",
       "      <td>17.00</td>\n",
       "      <td>17.00</td>\n",
       "      <td>0</td>\n",
       "      <td>0</td>\n",
       "    </tr>\n",
       "    <tr>\n",
       "      <th>2010-06-29</th>\n",
       "      <td>19.0</td>\n",
       "      <td>25.0</td>\n",
       "      <td>17.54</td>\n",
       "      <td>23.89</td>\n",
       "      <td>18783276</td>\n",
       "      <td>0</td>\n",
       "    </tr>\n",
       "  </tbody>\n",
       "</table>\n",
       "</div>"
      ],
      "text/plain": [
       "            Open  High    Low  Close    Volume  OpenInt\n",
       "Date                                                   \n",
       "2010-06-28  17.0  17.0  17.00  17.00         0        0\n",
       "2010-06-29  19.0  25.0  17.54  23.89  18783276        0"
      ]
     },
     "metadata": {},
     "output_type": "display_data"
    },
    {
     "data": {
      "text/html": [
       "<div>\n",
       "<style scoped>\n",
       "    .dataframe tbody tr th:only-of-type {\n",
       "        vertical-align: middle;\n",
       "    }\n",
       "\n",
       "    .dataframe tbody tr th {\n",
       "        vertical-align: top;\n",
       "    }\n",
       "\n",
       "    .dataframe thead th {\n",
       "        text-align: right;\n",
       "    }\n",
       "</style>\n",
       "<table border=\"1\" class=\"dataframe\">\n",
       "  <thead>\n",
       "    <tr style=\"text-align: right;\">\n",
       "      <th></th>\n",
       "      <th>Open</th>\n",
       "      <th>High</th>\n",
       "      <th>Low</th>\n",
       "      <th>Close</th>\n",
       "      <th>Volume</th>\n",
       "      <th>OpenInt</th>\n",
       "    </tr>\n",
       "    <tr>\n",
       "      <th>Date</th>\n",
       "      <th></th>\n",
       "      <th></th>\n",
       "      <th></th>\n",
       "      <th></th>\n",
       "      <th></th>\n",
       "      <th></th>\n",
       "    </tr>\n",
       "  </thead>\n",
       "  <tbody>\n",
       "    <tr>\n",
       "      <th>2017-11-09</th>\n",
       "      <td>302.5</td>\n",
       "      <td>304.46</td>\n",
       "      <td>296.30</td>\n",
       "      <td>302.99</td>\n",
       "      <td>5440335</td>\n",
       "      <td>0</td>\n",
       "    </tr>\n",
       "    <tr>\n",
       "      <th>2017-11-10</th>\n",
       "      <td>302.5</td>\n",
       "      <td>308.36</td>\n",
       "      <td>301.85</td>\n",
       "      <td>302.99</td>\n",
       "      <td>4621912</td>\n",
       "      <td>0</td>\n",
       "    </tr>\n",
       "  </tbody>\n",
       "</table>\n",
       "</div>"
      ],
      "text/plain": [
       "             Open    High     Low   Close   Volume  OpenInt\n",
       "Date                                                       \n",
       "2017-11-09  302.5  304.46  296.30  302.99  5440335        0\n",
       "2017-11-10  302.5  308.36  301.85  302.99  4621912        0"
      ]
     },
     "metadata": {},
     "output_type": "display_data"
    }
   ],
   "source": [
    "data_dir = os.path.join('data', 'kaggle_stocks', 'Stocks')\n",
    "\n",
    "dateparse = lambda x: datetime.datetime.strptime(x, '%Y-%m-%d')\n",
    "\n",
    "data = pd.read_csv(os.path.join(data_dir, 'tsla.us.txt'), index_col=0, date_parser=dateparse)\n",
    "\n",
    "train = data['Open']['2014-07-01':'2017-04-01'].values\n",
    "test = data['Open']['2017-04-01':].values[:50]\n",
    "\n",
    "display(data.head(2))\n",
    "display(data.tail(2))"
   ]
  },
  {
   "cell_type": "code",
   "execution_count": 26,
   "metadata": {
    "hidden": true
   },
   "outputs": [],
   "source": []
  },
  {
   "cell_type": "code",
   "execution_count": null,
   "metadata": {
    "hidden": true
   },
   "outputs": [],
   "source": []
  },
  {
   "cell_type": "code",
   "execution_count": null,
   "metadata": {
    "hidden": true
   },
   "outputs": [],
   "source": []
  },
  {
   "cell_type": "code",
   "execution_count": null,
   "metadata": {
    "hidden": true
   },
   "outputs": [],
   "source": []
  },
  {
   "cell_type": "code",
   "execution_count": null,
   "metadata": {
    "hidden": true
   },
   "outputs": [],
   "source": []
  },
  {
   "cell_type": "code",
   "execution_count": null,
   "metadata": {
    "hidden": true
   },
   "outputs": [],
   "source": []
  },
  {
   "cell_type": "code",
   "execution_count": null,
   "metadata": {
    "hidden": true
   },
   "outputs": [],
   "source": []
  },
  {
   "cell_type": "code",
   "execution_count": null,
   "metadata": {
    "hidden": true
   },
   "outputs": [],
   "source": []
  },
  {
   "cell_type": "code",
   "execution_count": null,
   "metadata": {
    "hidden": true
   },
   "outputs": [],
   "source": []
  },
  {
   "cell_type": "code",
   "execution_count": null,
   "metadata": {
    "hidden": true
   },
   "outputs": [],
   "source": []
  },
  {
   "cell_type": "code",
   "execution_count": null,
   "metadata": {
    "hidden": true
   },
   "outputs": [],
   "source": []
  },
  {
   "cell_type": "code",
   "execution_count": null,
   "metadata": {
    "hidden": true
   },
   "outputs": [],
   "source": []
  },
  {
   "cell_type": "markdown",
   "metadata": {
    "heading_collapsed": true
   },
   "source": [
    "### 5 TODO: try `Dynamic Vector Autoregressions` (https://www.statsmodels.org/stable/vector_ar.html#var)"
   ]
  },
  {
   "cell_type": "code",
   "execution_count": null,
   "metadata": {
    "hidden": true
   },
   "outputs": [],
   "source": []
  },
  {
   "cell_type": "code",
   "execution_count": null,
   "metadata": {
    "hidden": true
   },
   "outputs": [],
   "source": []
  },
  {
   "cell_type": "markdown",
   "metadata": {
    "hidden": true
   },
   "source": [
    "Information criteria"
   ]
  },
  {
   "cell_type": "code",
   "execution_count": 104,
   "metadata": {
    "hidden": true
   },
   "outputs": [
    {
     "name": "stdout",
     "output_type": "stream",
     "text": [
      "4413.6953108595435 4431.859430856303 4420.7200680219385\n",
      "[ 0.05231727 -0.22121302  0.17702628]\n"
     ]
    }
   ],
   "source": [
    "print(model_arima_result.aic, model_arima_result.bic, model_arima_result.hqic)\n",
    "print(model_arima_result.params)"
   ]
  },
  {
   "cell_type": "markdown",
   "metadata": {},
   "source": [
    "### 6 Generate ARMA processes and ..."
   ]
  },
  {
   "cell_type": "markdown",
   "metadata": {
    "heading_collapsed": true
   },
   "source": [
    "##### 6.1 process generation"
   ]
  },
  {
   "cell_type": "code",
   "execution_count": 201,
   "metadata": {
    "hidden": true
   },
   "outputs": [],
   "source": [
    "import numpy as np\n",
    "from statsmodels.tsa.arima_process import ArmaProcess\n",
    "from statsmodels.tsa.arima_model import ARMA\n",
    "\n",
    "from statsmodels.graphics.tsaplots import plot_acf, plot_pacf\n",
    "from statsmodels.tsa.stattools import adfuller\n",
    "import matplotlib.pyplot as plt"
   ]
  },
  {
   "cell_type": "code",
   "execution_count": 148,
   "metadata": {
    "hidden": true
   },
   "outputs": [
    {
     "data": {
      "text/plain": [
       "True"
      ]
     },
     "execution_count": 148,
     "metadata": {},
     "output_type": "execute_result"
    }
   ],
   "source": [
    "np.random.seed(12345)\n",
    "arparams = np.array([.75, -.25])\n",
    "maparams = np.array([.65, .35])\n",
    "ar = np.r_[1, -arparams] # add zero-lag and negate\n",
    "ma = np.r_[1, maparams] # add zero-lag\n",
    "arma_process = ArmaProcess(ar, ma)\n",
    "arma_process.isstationary"
   ]
  },
  {
   "cell_type": "code",
   "execution_count": 195,
   "metadata": {
    "hidden": true
   },
   "outputs": [],
   "source": [
    "y = arma_process.generate_sample(nsample=1000)\n",
    "y_diff = y[1:]-y[:-1]\n",
    "y_diff_x2 = y_diff[1:]-y_diff[:-1]\n",
    "y_cumsum = np.cumsum(y)\n",
    "y_cumsum_x2 = np.cumsum(y_cumsum)"
   ]
  },
  {
   "cell_type": "code",
   "execution_count": 207,
   "metadata": {
    "hidden": true
   },
   "outputs": [
    {
     "data": {
      "image/png": "[encoded data removed]",
      "text/plain": [
       "<Figure size 1440x360 with 2 Axes>"
      ]
     },
     "metadata": {
      "needs_background": "light"
     },
     "output_type": "display_data"
    }
   ],
   "source": []
  },
  {
   "cell_type": "code",
   "execution_count": 218,
   "metadata": {
    "hidden": true
   },
   "outputs": [
    {
     "data": {
      "text/html": [
       "<table class=\"simpletable\">\n",
       "<caption>ARMA Model Results</caption>\n",
       "<tr>\n",
       "  <th>Dep. Variable:</th>         <td>y</td>        <th>  No. Observations:  </th>   <td>1000</td>   \n",
       "</tr>\n",
       "<tr>\n",
       "  <th>Model:</th>            <td>ARMA(2, 2)</td>    <th>  Log Likelihood     </th> <td>-1389.666</td>\n",
       "</tr>\n",
       "<tr>\n",
       "  <th>Method:</th>             <td>css-mle</td>     <th>  S.D. of innovations</th>   <td>0.970</td>  \n",
       "</tr>\n",
       "<tr>\n",
       "  <th>Date:</th>          <td>Sun, 30 Jun 2019</td> <th>  AIC                </th> <td>2789.331</td> \n",
       "</tr>\n",
       "<tr>\n",
       "  <th>Time:</th>              <td>16:25:59</td>     <th>  BIC                </th> <td>2813.870</td> \n",
       "</tr>\n",
       "<tr>\n",
       "  <th>Sample:</th>                <td>0</td>        <th>  HQIC               </th> <td>2798.658</td> \n",
       "</tr>\n",
       "<tr>\n",
       "  <th></th>                       <td> </td>        <th>                     </th>     <td> </td>    \n",
       "</tr>\n",
       "</table>\n",
       "<table class=\"simpletable\">\n",
       "<tr>\n",
       "     <td></td>        <th>coef</th>     <th>std err</th>      <th>z</th>      <th>P>|z|</th>  <th>[0.025</th>    <th>0.975]</th>  \n",
       "</tr>\n",
       "<tr>\n",
       "  <th>ar.L1.y</th> <td>    0.8145</td> <td>    0.069</td> <td>   11.786</td> <td> 0.000</td> <td>    0.679</td> <td>    0.950</td>\n",
       "</tr>\n",
       "<tr>\n",
       "  <th>ar.L2.y</th> <td>   -0.2959</td> <td>    0.056</td> <td>   -5.266</td> <td> 0.000</td> <td>   -0.406</td> <td>   -0.186</td>\n",
       "</tr>\n",
       "<tr>\n",
       "  <th>ma.L1.y</th> <td>    0.6400</td> <td>    0.068</td> <td>    9.475</td> <td> 0.000</td> <td>    0.508</td> <td>    0.772</td>\n",
       "</tr>\n",
       "<tr>\n",
       "  <th>ma.L2.y</th> <td>    0.3506</td> <td>    0.049</td> <td>    7.110</td> <td> 0.000</td> <td>    0.254</td> <td>    0.447</td>\n",
       "</tr>\n",
       "</table>\n",
       "<table class=\"simpletable\">\n",
       "<caption>Roots</caption>\n",
       "<tr>\n",
       "    <td></td>   <th>            Real</th>  <th>         Imaginary</th> <th>         Modulus</th>  <th>        Frequency</th>\n",
       "</tr>\n",
       "<tr>\n",
       "  <th>AR.1</th> <td>           1.3761</td> <td>          -1.2187j</td> <td>           1.8382</td> <td>          -0.1154</td>\n",
       "</tr>\n",
       "<tr>\n",
       "  <th>AR.2</th> <td>           1.3761</td> <td>          +1.2187j</td> <td>           1.8382</td> <td>           0.1154</td>\n",
       "</tr>\n",
       "<tr>\n",
       "  <th>MA.1</th> <td>          -0.9127</td> <td>          -1.4210j</td> <td>           1.6889</td> <td>          -0.3409</td>\n",
       "</tr>\n",
       "<tr>\n",
       "  <th>MA.2</th> <td>          -0.9127</td> <td>          +1.4210j</td> <td>           1.6889</td> <td>           0.3409</td>\n",
       "</tr>\n",
       "</table>"
      ],
      "text/plain": [
       "<class 'statsmodels.iolib.summary.Summary'>\n",
       "\"\"\"\n",
       "                              ARMA Model Results                              \n",
       "==============================================================================\n",
       "Dep. Variable:                      y   No. Observations:                 1000\n",
       "Model:                     ARMA(2, 2)   Log Likelihood               -1389.666\n",
       "Method:                       css-mle   S.D. of innovations              0.970\n",
       "Date:                Sun, 30 Jun 2019   AIC                           2789.331\n",
       "Time:                        16:25:59   BIC                           2813.870\n",
       "Sample:                             0   HQIC                          2798.658\n",
       "                                                                              \n",
       "==============================================================================\n",
       "                 coef    std err          z      P>|z|      [0.025      0.975]\n",
       "------------------------------------------------------------------------------\n",
       "ar.L1.y        0.8145      0.069     11.786      0.000       0.679       0.950\n",
       "ar.L2.y       -0.2959      0.056     -5.266      0.000      -0.406      -0.186\n",
       "ma.L1.y        0.6400      0.068      9.475      0.000       0.508       0.772\n",
       "ma.L2.y        0.3506      0.049      7.110      0.000       0.254       0.447\n",
       "                                    Roots                                    \n",
       "=============================================================================\n",
       "                  Real          Imaginary           Modulus         Frequency\n",
       "-----------------------------------------------------------------------------\n",
       "AR.1            1.3761           -1.2187j            1.8382           -0.1154\n",
       "AR.2            1.3761           +1.2187j            1.8382            0.1154\n",
       "MA.1           -0.9127           -1.4210j            1.6889           -0.3409\n",
       "MA.2           -0.9127           +1.4210j            1.6889            0.3409\n",
       "-----------------------------------------------------------------------------\n",
       "\"\"\""
      ]
     },
     "metadata": {},
     "output_type": "display_data"
    },
    {
     "data": {
      "image/png": "[encoded data removed]",
      "text/plain": [
       "<Figure size 1440x216 with 2 Axes>"
      ]
     },
     "metadata": {
      "needs_background": "light"
     },
     "output_type": "display_data"
    },
    {
     "data": {
      "image/png": "[encoded data removed]",
      "text/plain": [
       "<Figure size 1440x216 with 2 Axes>"
      ]
     },
     "metadata": {
      "needs_background": "light"
     },
     "output_type": "display_data"
    }
   ],
   "source": [
    "model_arma = ARMA(y, (2, 2))\n",
    "model_arma_result = model_arma.fit(trend='nc', disp=0)\n",
    "display(model_arma_result.summary())\n",
    "\n",
    "plt.figure(figsize=(20,3))\n",
    "\n",
    "plt.subplot(1,2,1) \n",
    "plt.plot(y, color='blue') \n",
    "plt.title('sequence to fit')\n",
    "\n",
    "plt.subplot(1,2,2) \n",
    "plt.plot(model_arma_result.resid, color='blue') \n",
    "plt.title('model residua')\n",
    "plt.tight_layout()    \n",
    "plt.show()\n",
    "\n",
    "\n",
    "fig = plt.figure(figsize=(20,3))\n",
    "ax1 = fig.add_subplot(121)\n",
    "fig = plot_acf(model_arma_result.resid, lags=40, ax=ax1)\n",
    "ax2 = fig.add_subplot(122)\n",
    "fig = plot_pacf(model_arma_result.resid, lags=40, ax=ax2)\n",
    "plt.show()\n",
    "\n",
    "\n",
    "\n",
    "# model_arma_result.summary2()\n",
    "# model_arma_result.params"
   ]
  },
  {
   "cell_type": "markdown",
   "metadata": {
    "heading_collapsed": true
   },
   "source": [
    "##### 6.2 Stationarity test"
   ]
  },
  {
   "cell_type": "code",
   "execution_count": 175,
   "metadata": {
    "hidden": true
   },
   "outputs": [],
   "source": [
    "from statsmodels.graphics.tsaplots import plot_acf, plot_pacf\n",
    "from statsmodels.tsa.stattools import adfuller\n",
    "import matplotlib.pyplot as plt"
   ]
  },
  {
   "cell_type": "code",
   "execution_count": 197,
   "metadata": {
    "hidden": true
   },
   "outputs": [
    {
     "data": {
      "text/plain": [
       "(-10.010960709757015,\n",
       " 1.7792249448610507e-17,\n",
       " 5,\n",
       " 994,\n",
       " {'1%': -3.43694584277544,\n",
       "  '5%': -2.8644520725172873,\n",
       "  '10%': -2.5683205291305176},\n",
       " 2721.7754125934507)"
      ]
     },
     "metadata": {},
     "output_type": "display_data"
    },
    {
     "data": {
      "text/plain": [
       "(-10.101046587973679,\n",
       " 1.0593003644224615e-17,\n",
       " 21,\n",
       " 977,\n",
       " {'1%': -3.43706091543889,\n",
       "  '5%': -2.8645028204932483,\n",
       "  '10%': -2.568347558984588},\n",
       " 2770.677971678916)"
      ]
     },
     "metadata": {},
     "output_type": "display_data"
    },
    {
     "data": {
      "text/plain": [
       "(-2.609039251086917,\n",
       " 0.09114339266139837,\n",
       " 6,\n",
       " 993,\n",
       " {'1%': -3.4369525024039884,\n",
       "  '5%': -2.8644550095200705,\n",
       "  '10%': -2.568322093455802},\n",
       " 2717.8230315875026)"
      ]
     },
     "metadata": {},
     "output_type": "display_data"
    },
    {
     "data": {
      "text/plain": [
       "(1.0313780266563122,\n",
       " 0.994586233949397,\n",
       " 7,\n",
       " 992,\n",
       " {'1%': -3.436959175494265,\n",
       "  '5%': -2.8644579524531975,\n",
       "  '10%': -2.568323660940752},\n",
       " 2718.6756654128876)"
      ]
     },
     "metadata": {},
     "output_type": "display_data"
    }
   ],
   "source": [
    "# look at the second value of every results. This has to be the p-value\n",
    "# if it is below 0.05 we can reject the null hypothesis (with 95% confidence?)\n",
    "\n",
    "display(adfuller(y))\n",
    "display(adfuller(y_diff))\n",
    "display(adfuller(y_cumsum)) # here we see that we are not able to reject the null hypothesis\n",
    "display(adfuller(y_cumsum_x2)) # here we see that we are not able to reject the null hypothesis"
   ]
  },
  {
   "cell_type": "code",
   "execution_count": 198,
   "metadata": {
    "hidden": true
   },
   "outputs": [
    {
     "data": {
      "image/png": "[encoded data removed]",
      "text/plain": [
       "<Figure size 864x576 with 2 Axes>"
      ]
     },
     "metadata": {
      "needs_background": "light"
     },
     "output_type": "display_data"
    }
   ],
   "source": [
    "fig = plt.figure(figsize=(12,8))\n",
    "ax1 = fig.add_subplot(211)\n",
    "fig = plot_acf(y, lags=40, ax=ax1, alpha=0.05)\n",
    "ax2 = fig.add_subplot(212)\n",
    "fig = plot_pacf(y, lags=40, ax=ax2)\n",
    "plt.show()"
   ]
  },
  {
   "cell_type": "code",
   "execution_count": 193,
   "metadata": {
    "hidden": true,
    "scrolled": true
   },
   "outputs": [
    {
     "data": {
      "image/png": "[encoded data removed]",
      "text/plain": [
       "<Figure size 864x432 with 2 Axes>"
      ]
     },
     "metadata": {
      "needs_background": "light"
     },
     "output_type": "display_data"
    }
   ],
   "source": [
    "fig = plt.figure(figsize=(12,6))\n",
    "ax1 = fig.add_subplot(211)\n",
    "fig = plot_acf(y_diff, lags=40, ax=ax1)\n",
    "ax2 = fig.add_subplot(212)\n",
    "fig = plot_pacf(y_diff, lags=40, ax=ax2)\n",
    "plt.show()"
   ]
  },
  {
   "cell_type": "code",
   "execution_count": 194,
   "metadata": {
    "hidden": true
   },
   "outputs": [
    {
     "data": {
      "image/png": "[encoded data removed]",
      "text/plain": [
       "<Figure size 864x432 with 2 Axes>"
      ]
     },
     "metadata": {
      "needs_background": "light"
     },
     "output_type": "display_data"
    }
   ],
   "source": [
    "fig = plt.figure(figsize=(12,6))\n",
    "ax1 = fig.add_subplot(211)\n",
    "fig = plot_acf(y_diff_x2, lags=40, ax=ax1)\n",
    "ax2 = fig.add_subplot(212)\n",
    "fig = plot_pacf(y_diff_x2, lags=40, ax=ax2)\n",
    "plt.show()"
   ]
  },
  {
   "cell_type": "markdown",
   "metadata": {},
   "source": [
    "### 8 Exponential smoothing"
   ]
  },
  {
   "cell_type": "markdown",
   "metadata": {
    "heading_collapsed": true
   },
   "source": [
    "##### 8.1 Load the data"
   ]
  },
  {
   "cell_type": "markdown",
   "metadata": {
    "hidden": true
   },
   "source": [
    "Exponential smoothing possible only for a single time sequence, i.e. aplication to multidim data where $\\alpha$ can be trun from a scalar to a matrix is not available.  "
   ]
  },
  {
   "cell_type": "code",
   "execution_count": 42,
   "metadata": {
    "hidden": true
   },
   "outputs": [
    {
     "data": {
      "text/html": [
       "<div>\n",
       "<style scoped>\n",
       "    .dataframe tbody tr th:only-of-type {\n",
       "        vertical-align: middle;\n",
       "    }\n",
       "\n",
       "    .dataframe tbody tr th {\n",
       "        vertical-align: top;\n",
       "    }\n",
       "\n",
       "    .dataframe thead th {\n",
       "        text-align: right;\n",
       "    }\n",
       "</style>\n",
       "<table border=\"1\" class=\"dataframe\">\n",
       "  <thead>\n",
       "    <tr style=\"text-align: right;\">\n",
       "      <th></th>\n",
       "      <th>Open</th>\n",
       "      <th>High</th>\n",
       "      <th>Low</th>\n",
       "      <th>Close</th>\n",
       "      <th>Volume</th>\n",
       "      <th>OpenInt</th>\n",
       "    </tr>\n",
       "    <tr>\n",
       "      <th>Date</th>\n",
       "      <th></th>\n",
       "      <th></th>\n",
       "      <th></th>\n",
       "      <th></th>\n",
       "      <th></th>\n",
       "      <th></th>\n",
       "    </tr>\n",
       "  </thead>\n",
       "  <tbody>\n",
       "    <tr>\n",
       "      <th>2010-06-28</th>\n",
       "      <td>17.0</td>\n",
       "      <td>17.0</td>\n",
       "      <td>17.00</td>\n",
       "      <td>17.00</td>\n",
       "      <td>0</td>\n",
       "      <td>0</td>\n",
       "    </tr>\n",
       "    <tr>\n",
       "      <th>2010-06-29</th>\n",
       "      <td>19.0</td>\n",
       "      <td>25.0</td>\n",
       "      <td>17.54</td>\n",
       "      <td>23.89</td>\n",
       "      <td>18783276</td>\n",
       "      <td>0</td>\n",
       "    </tr>\n",
       "  </tbody>\n",
       "</table>\n",
       "</div>"
      ],
      "text/plain": [
       "            Open  High    Low  Close    Volume  OpenInt\n",
       "Date                                                   \n",
       "2010-06-28  17.0  17.0  17.00  17.00         0        0\n",
       "2010-06-29  19.0  25.0  17.54  23.89  18783276        0"
      ]
     },
     "metadata": {},
     "output_type": "display_data"
    },
    {
     "data": {
      "text/html": [
       "<div>\n",
       "<style scoped>\n",
       "    .dataframe tbody tr th:only-of-type {\n",
       "        vertical-align: middle;\n",
       "    }\n",
       "\n",
       "    .dataframe tbody tr th {\n",
       "        vertical-align: top;\n",
       "    }\n",
       "\n",
       "    .dataframe thead th {\n",
       "        text-align: right;\n",
       "    }\n",
       "</style>\n",
       "<table border=\"1\" class=\"dataframe\">\n",
       "  <thead>\n",
       "    <tr style=\"text-align: right;\">\n",
       "      <th></th>\n",
       "      <th>Open</th>\n",
       "      <th>High</th>\n",
       "      <th>Low</th>\n",
       "      <th>Close</th>\n",
       "      <th>Volume</th>\n",
       "      <th>OpenInt</th>\n",
       "    </tr>\n",
       "    <tr>\n",
       "      <th>Date</th>\n",
       "      <th></th>\n",
       "      <th></th>\n",
       "      <th></th>\n",
       "      <th></th>\n",
       "      <th></th>\n",
       "      <th></th>\n",
       "    </tr>\n",
       "  </thead>\n",
       "  <tbody>\n",
       "    <tr>\n",
       "      <th>2017-11-09</th>\n",
       "      <td>302.5</td>\n",
       "      <td>304.46</td>\n",
       "      <td>296.30</td>\n",
       "      <td>302.99</td>\n",
       "      <td>5440335</td>\n",
       "      <td>0</td>\n",
       "    </tr>\n",
       "    <tr>\n",
       "      <th>2017-11-10</th>\n",
       "      <td>302.5</td>\n",
       "      <td>308.36</td>\n",
       "      <td>301.85</td>\n",
       "      <td>302.99</td>\n",
       "      <td>4621912</td>\n",
       "      <td>0</td>\n",
       "    </tr>\n",
       "  </tbody>\n",
       "</table>\n",
       "</div>"
      ],
      "text/plain": [
       "             Open    High     Low   Close   Volume  OpenInt\n",
       "Date                                                       \n",
       "2017-11-09  302.5  304.46  296.30  302.99  5440335        0\n",
       "2017-11-10  302.5  308.36  301.85  302.99  4621912        0"
      ]
     },
     "metadata": {},
     "output_type": "display_data"
    }
   ],
   "source": [
    "data_dir = os.path.join('data', 'kaggle_stocks', 'Stocks')\n",
    "\n",
    "dateparse = lambda x: datetime.datetime.strptime(x, '%Y-%m-%d')\n",
    "\n",
    "data = pd.read_csv(os.path.join(data_dir, 'tsla.us.txt'), index_col=0, date_parser=dateparse)\n",
    "\n",
    "train = data['Open']['2014-07-01':'2017-04-01'].values\n",
    "test = data['Open']['2017-04-01':].values[:50]\n",
    "\n",
    "display(data.head(2))\n",
    "display(data.tail(2))"
   ]
  },
  {
   "cell_type": "markdown",
   "metadata": {
    "heading_collapsed": true
   },
   "source": [
    "##### 8.2 Fit & .."
   ]
  },
  {
   "cell_type": "code",
   "execution_count": 39,
   "metadata": {
    "hidden": true
   },
   "outputs": [],
   "source": [
    "from statsmodels.tsa.holtwinters import ExponentialSmoothing, SimpleExpSmoothing, Holt"
   ]
  },
  {
   "cell_type": "code",
   "execution_count": 46,
   "metadata": {
    "hidden": true
   },
   "outputs": [],
   "source": [
    "# model_exp = ExponentialSmoothing(endog=data['2014-07-01':'2017-04-01'].values)\n",
    "# model_exp.fit()\n",
    "\n",
    "# model_exp = Holt(endog=data['2014-07-01':'2017-04-01'].values)\n",
    "# model_exp.fit()"
   ]
  },
  {
   "cell_type": "code",
   "execution_count": null,
   "metadata": {
    "hidden": true
   },
   "outputs": [],
   "source": [
    "fit3.forecast(3)"
   ]
  },
  {
   "cell_type": "code",
   "execution_count": null,
   "metadata": {
    "hidden": true
   },
   "outputs": [],
   "source": [
    "model_arma = ARMA(endog=train, order=(1,1))\n",
    "model_arma_result = model_arma.fit(trend='c', maxiter=1000)\n",
    "\n",
    "model_arma_dir = ('model_3_ar_arima_etx')\n",
    "if not os.path.exists(model_arma_dir):\n",
    "    os.makedirs(model_arma_dir)\n",
    "\n",
    "model_arma_result.save( os.path.join(model_arma_dir, 'model_arma.pickle'), remove_data=False)"
   ]
  },
  {
   "cell_type": "markdown",
   "metadata": {},
   "source": [
    "### 9 Exponential smoothing"
   ]
  },
  {
   "cell_type": "markdown",
   "metadata": {},
   "source": [
    "##### 9.1 Load data"
   ]
  },
  {
   "cell_type": "code",
   "execution_count": 7,
   "metadata": {},
   "outputs": [],
   "source": [
    "import os\n",
    "import numpy as np\n",
    "import pandas as pd\n",
    "import matplotlib.pyplot as plt\n",
    "from statsmodels.tsa.api import ExponentialSmoothing, SimpleExpSmoothing, Holt\n",
    "\n",
    "data = [446.6565,  454.4733,  455.663 ,  423.6322,  456.2713,  440.5881, 425.3325,  485.1494,  506.0482,  526.792 ,  514.2689,  494.211 ]\n",
    "index= pd.date_range(start='1996', end='2008', freq='A')\n",
    "oildata = pd.Series(data, index)\n",
    "\n",
    "data = [17.5534,  21.86  ,  23.8866,  26.9293,  26.8885,  28.8314, 30.0751,  30.9535,  30.1857,  31.5797,  32.5776,  33.4774, 39.0216,  41.3864,  41.5966]\n",
    "index= pd.date_range(start='1990', end='2005', freq='A')\n",
    "air = pd.Series(data, index)\n",
    "\n",
    "data = [263.9177,  268.3072,  260.6626,  266.6394,  277.5158,  283.834 , 290.309 ,  292.4742,  300.8307,  309.2867,  318.3311,  329.3724, 338.884 ,  339.2441,  328.6006,  314.2554,  314.4597,  321.4138, 329.7893,  346.3852,  352.2979,  348.3705,  417.5629,  417.1236, 417.7495,  412.2339,  411.9468,  394.6971,  401.4993,  408.2705, 414.2428]\n",
    "index= pd.date_range(start='1970', end='2001', freq='A')\n",
    "livestock2 = pd.Series(data, index)\n",
    "\n",
    "data = [407.9979 ,  403.4608,  413.8249,  428.105 ,  445.3387,  452.9942, 455.7402]\n",
    "index= pd.date_range(start='2001', end='2008', freq='A')\n",
    "livestock3 = pd.Series(data, index)\n",
    "\n",
    "data = [41.7275,  24.0418,  32.3281,  37.3287,  46.2132,  29.3463, 36.4829,  42.9777,  48.9015,  31.1802,  37.7179,  40.4202, 51.2069,  31.8872,  40.9783,  43.7725,  55.5586,  33.8509, 42.0764,  45.6423,  59.7668,  35.1919,  44.3197,  47.9137]\n",
    "index= pd.date_range(start='2005', end='2010-Q4', freq='QS-OCT')\n",
    "aust = pd.Series(data, index)"
   ]
  },
  {
   "cell_type": "markdown",
   "metadata": {
    "heading_collapsed": true
   },
   "source": [
    "##### 9.2 Simple exp smoothing"
   ]
  },
  {
   "cell_type": "code",
   "execution_count": 8,
   "metadata": {
    "hidden": true
   },
   "outputs": [
    {
     "data": {
      "image/png": "[encoded data removed]",
      "text/plain": [
       "<Figure size 432x288 with 1 Axes>"
      ]
     },
     "metadata": {
      "needs_background": "light"
     },
     "output_type": "display_data"
    },
    {
     "name": "stdout",
     "output_type": "stream",
     "text": [
      "Figure 7.1: Oil production in Saudi Arabia from 1996 to 2007.\n"
     ]
    }
   ],
   "source": [
    "ax=oildata.plot()\n",
    "ax.set_xlabel(\"Year\")\n",
    "ax.set_ylabel(\"Oil (millions of tonnes)\")\n",
    "plt.show()\n",
    "print(\"Figure 7.1: Oil production in Saudi Arabia from 1996 to 2007.\")"
   ]
  },
  {
   "cell_type": "code",
   "execution_count": 9,
   "metadata": {
    "hidden": true
   },
   "outputs": [
    {
     "name": "stderr",
     "output_type": "stream",
     "text": [
      "/anaconda3/envs/ts/lib/python3.7/site-packages/statsmodels/tsa/holtwinters.py:322: FutureWarning: Addition/subtraction of integers and integer-arrays to Timestamp is deprecated, will be removed in a future version.  Instead of adding/subtracting `n`, use `n * self.freq`\n",
      "  start = self.model._index[-1] + 1\n",
      "/anaconda3/envs/ts/lib/python3.7/site-packages/statsmodels/tsa/holtwinters.py:323: FutureWarning: Addition/subtraction of integers and integer-arrays to Timestamp is deprecated, will be removed in a future version.  Instead of adding/subtracting `n`, use `n * self.freq`\n",
      "  end = self.model._index[-1] + steps\n",
      "/anaconda3/envs/ts/lib/python3.7/site-packages/statsmodels/tsa/base/tsa_model.py:336: FutureWarning: Creating a DatetimeIndex by passing range endpoints is deprecated.  Use `pandas.date_range` instead.\n",
      "  freq=base_index.freq)\n"
     ]
    }
   ],
   "source": [
    "fit1 = SimpleExpSmoothing(oildata).fit(smoothing_level=0.2, optimized=False)\n",
    "fcast1 = fit1.forecast(3).rename(r'$\\alpha=0.2$')"
   ]
  },
  {
   "cell_type": "code",
   "execution_count": 13,
   "metadata": {
    "hidden": true
   },
   "outputs": [
    {
     "data": {
      "text/plain": [
       "1996-12-31    446.6565\n",
       "1997-12-31    454.4733\n",
       "1998-12-31    455.6630\n",
       "1999-12-31    423.6322\n",
       "2000-12-31    456.2713\n",
       "2001-12-31    440.5881\n",
       "2002-12-31    425.3325\n",
       "2003-12-31    485.1494\n",
       "2004-12-31    506.0482\n",
       "2005-12-31    526.7920\n",
       "2006-12-31    514.2689\n",
       "2007-12-31    494.2110\n",
       "Freq: A-DEC, dtype: float64"
      ]
     },
     "metadata": {},
     "output_type": "display_data"
    },
    {
     "data": {
      "text/plain": [
       "1996-12-31    446.656500\n",
       "1997-12-31    446.656500\n",
       "1998-12-31    448.219860\n",
       "1999-12-31    449.708488\n",
       "2000-12-31    444.493230\n",
       "2001-12-31    446.848844\n",
       "2002-12-31    445.596695\n",
       "2003-12-31    441.543856\n",
       "2004-12-31    450.264965\n",
       "2005-12-31    461.421612\n",
       "2006-12-31    474.495690\n",
       "2007-12-31    482.450332\n",
       "Freq: A-DEC, dtype: float64"
      ]
     },
     "metadata": {},
     "output_type": "display_data"
    }
   ],
   "source": [
    "display(oildata)\n",
    "display(fit1.fittedvalues)"
   ]
  },
  {
   "cell_type": "code",
   "execution_count": 10,
   "metadata": {
    "hidden": true,
    "scrolled": true
   },
   "outputs": [
    {
     "data": {
      "text/plain": [
       "2008-12-31    484.802465\n",
       "2009-12-31    484.802465\n",
       "2010-12-31    484.802465\n",
       "Freq: A-DEC, Name: $\\alpha=0.2$, dtype: float64"
      ]
     },
     "execution_count": 10,
     "metadata": {},
     "output_type": "execute_result"
    }
   ],
   "source": [
    "fcast1"
   ]
  },
  {
   "cell_type": "code",
   "execution_count": 30,
   "metadata": {
    "hidden": true,
    "scrolled": true
   },
   "outputs": [
    {
     "data": {
      "text/plain": [
       "0.0"
      ]
     },
     "execution_count": 30,
     "metadata": {},
     "output_type": "execute_result"
    }
   ],
   "source": [
    "s = [oildata.values[0]]\n",
    "for x in oildata.values[:-1]:\n",
    "    if s !=[]:\n",
    "        s.append(alpha * x + (1-alpha)*s[-1])\n",
    "    else:\n",
    "        s.append(x)\n",
    "        \n",
    "(s - fit1.fittedvalues).sum()"
   ]
  },
  {
   "cell_type": "markdown",
   "metadata": {
    "hidden": true
   },
   "source": [
    "All out of sample predictions are the same ...."
   ]
  },
  {
   "cell_type": "code",
   "execution_count": 36,
   "metadata": {
    "hidden": true
   },
   "outputs": [
    {
     "data": {
      "text/plain": [
       "484.80246538161776"
      ]
     },
     "execution_count": 36,
     "metadata": {},
     "output_type": "execute_result"
    }
   ],
   "source": [
    "alpha * oildata.values[-1] +  (1-alpha) * fit1.fittedvalues[-1] "
   ]
  },
  {
   "cell_type": "markdown",
   "metadata": {},
   "source": [
    "##### 9.3 Holt"
   ]
  },
  {
   "cell_type": "code",
   "execution_count": null,
   "metadata": {},
   "outputs": [],
   "source": []
  },
  {
   "cell_type": "code",
   "execution_count": 77,
   "metadata": {},
   "outputs": [
    {
     "data": {
      "text/plain": [
       "2005-12-31    43.757004\n",
       "Freq: A-DEC, Name: ExponentialSmoothing = Holt's linear trend, dtype: float64"
      ]
     },
     "execution_count": 77,
     "metadata": {},
     "output_type": "execute_result"
    }
   ],
   "source": [
    "hw = ExponentialSmoothing(air, trend='add', damped=False, seasonal=None)\n",
    "hw_result = hw.fit(smoothing_level=0.8, smoothing_slope=0.2, optimized=False)\n",
    "hw_forecast = hw_result.forecast(1).rename(\"ExponentialSmoothing = Holt's linear trend\")\n",
    "hw_forecast"
   ]
  },
  {
   "cell_type": "code",
   "execution_count": 74,
   "metadata": {},
   "outputs": [
    {
     "data": {
      "text/plain": [
       "{'smoothing_level': 0.8,\n",
       " 'smoothing_slope': 0.2,\n",
       " 'smoothing_seasonal': None,\n",
       " 'damping_slope': nan,\n",
       " 'initial_level': 17.5534,\n",
       " 'initial_slope': 4.3065999999999995,\n",
       " 'initial_seasons': array([], dtype=float64),\n",
       " 'use_boxcox': False,\n",
       " 'lamda': None,\n",
       " 'remove_bias': False}"
      ]
     },
     "execution_count": 74,
     "metadata": {},
     "output_type": "execute_result"
    }
   ],
   "source": [
    "hw_result.params"
   ]
  },
  {
   "cell_type": "code",
   "execution_count": 65,
   "metadata": {},
   "outputs": [
    {
     "data": {
      "text/plain": [
       "(statsmodels.tsa.holtwinters.ExponentialSmoothing,\n",
       " statsmodels.tsa.holtwinters.HoltWintersResultsWrapper)"
      ]
     },
     "execution_count": 65,
     "metadata": {},
     "output_type": "execute_result"
    }
   ],
   "source": [
    "type(hw), type(hw_result)"
   ]
  },
  {
   "cell_type": "code",
   "execution_count": 64,
   "metadata": {},
   "outputs": [
    {
     "data": {
      "text/plain": [
       "2005-12-31    43.757004\n",
       "2006-12-31    45.593562\n",
       "2007-12-31    47.430121\n",
       "2008-12-31    49.266679\n",
       "2009-12-31    51.103237\n",
       "Freq: A-DEC, Name: ExponentialSmoothing = Holt's linear trend, dtype: float64"
      ]
     },
     "execution_count": 64,
     "metadata": {},
     "output_type": "execute_result"
    }
   ],
   "source": [
    "hw_forecast"
   ]
  },
  {
   "cell_type": "markdown",
   "metadata": {},
   "source": [
    "From the figure below we can conclude that `Holt` is just a special case of `ExponentialSmoothing = Holt Winters's Exponential smoothing`.\n",
    "\n",
    "Holt:\n",
    "    - exponential    \n",
    "    - damped    \n",
    "ExponentialSmoothing:\n",
    "    - trend   \n",
    "    - damped   \n",
    "    - seasonal   \n",
    "    - seasonal_periods   "
   ]
  },
  {
   "cell_type": "code",
   "execution_count": 66,
   "metadata": {},
   "outputs": [],
   "source": [
    "fit1_ = ExponentialSmoothing(air, trend='add', damped=False, seasonal=None).fit(smoothing_level=0.8, smoothing_slope=0.2, optimized=False)\n",
    "fcast1_ = fit1_.forecast(5).rename(\"ExponentialSmoothing = Holt's linear trend\")"
   ]
  },
  {
   "cell_type": "code",
   "execution_count": 69,
   "metadata": {},
   "outputs": [
    {
     "data": {
      "text/plain": [
       "(15, 15)"
      ]
     },
     "execution_count": 69,
     "metadata": {},
     "output_type": "execute_result"
    }
   ],
   "source": [
    "len(fit1_.fittedvalues), len(air)"
   ]
  },
  {
   "cell_type": "code",
   "execution_count": 71,
   "metadata": {},
   "outputs": [
    {
     "data": {
      "text/plain": [
       "1990-12-31    21.860000\n",
       "1991-12-31    22.032264\n",
       "1992-12-31    25.484435\n",
       "1993-12-31    27.540495\n",
       "1994-12-31    30.288076\n",
       "1995-12-31    30.261020\n",
       "1996-12-31    31.581190\n",
       "1997-12-31    32.599209\n",
       "1998-12-31    33.242220\n",
       "1999-12-31    32.267539\n",
       "2000-12-31    33.077748\n",
       "2001-12-31    33.958086\n",
       "2002-12-31    34.777084\n",
       "2003-12-31    40.055366\n",
       "2004-12-31    43.215828\n",
       "Freq: A-DEC, dtype: float64"
      ]
     },
     "execution_count": 71,
     "metadata": {},
     "output_type": "execute_result"
    }
   ],
   "source": [
    "fit1_.fittedvalues"
   ]
  },
  {
   "cell_type": "code",
   "execution_count": 73,
   "metadata": {},
   "outputs": [
    {
     "data": {
      "text/plain": [
       "1990-12-31    21.860000\n",
       "1991-12-31    22.032264\n",
       "1992-12-31    25.484435\n",
       "1993-12-31    27.540495\n",
       "1994-12-31    30.288076\n",
       "1995-12-31    30.261020\n",
       "1996-12-31    31.581190\n",
       "1997-12-31    32.599209\n",
       "1998-12-31    33.242220\n",
       "1999-12-31    32.267539\n",
       "2000-12-31    33.077748\n",
       "2001-12-31    33.958086\n",
       "2002-12-31    34.777084\n",
       "2003-12-31    40.055366\n",
       "2004-12-31    43.215828\n",
       "Freq: A-DEC, dtype: float64"
      ]
     },
     "execution_count": 73,
     "metadata": {},
     "output_type": "execute_result"
    }
   ],
   "source": [
    "fit1_.predict(start=0, end=len(air)-1)"
   ]
  },
  {
   "cell_type": "code",
   "execution_count": null,
   "metadata": {},
   "outputs": [],
   "source": []
  },
  {
   "cell_type": "code",
   "execution_count": 61,
   "metadata": {
    "scrolled": true
   },
   "outputs": [
    {
     "name": "stderr",
     "output_type": "stream",
     "text": [
      "/anaconda3/envs/ts/lib/python3.7/site-packages/statsmodels/tsa/holtwinters.py:322: FutureWarning: Addition/subtraction of integers and integer-arrays to Timestamp is deprecated, will be removed in a future version.  Instead of adding/subtracting `n`, use `n * self.freq`\n",
      "  start = self.model._index[-1] + 1\n",
      "/anaconda3/envs/ts/lib/python3.7/site-packages/statsmodels/tsa/holtwinters.py:323: FutureWarning: Addition/subtraction of integers and integer-arrays to Timestamp is deprecated, will be removed in a future version.  Instead of adding/subtracting `n`, use `n * self.freq`\n",
      "  end = self.model._index[-1] + steps\n",
      "/anaconda3/envs/ts/lib/python3.7/site-packages/statsmodels/tsa/base/tsa_model.py:336: FutureWarning: Creating a DatetimeIndex by passing range endpoints is deprecated.  Use `pandas.date_range` instead.\n",
      "  freq=base_index.freq)\n"
     ]
    },
    {
     "data": {
      "text/plain": [
       "<matplotlib.axes._subplots.AxesSubplot at 0x11ff52eb8>"
      ]
     },
     "execution_count": 61,
     "metadata": {},
     "output_type": "execute_result"
    },
    {
     "data": {
      "image/png": "[encoded data removed]",
      "text/plain": [
       "<Figure size 864x576 with 1 Axes>"
      ]
     },
     "metadata": {
      "needs_background": "light"
     },
     "output_type": "display_data"
    }
   ],
   "source": [
    "fit1 = Holt(air, exponential=False, damped=False).fit(smoothing_level=0.8, smoothing_slope=0.2, optimized=False)\n",
    "fcast1 = fit1.forecast(5).rename(\"Holt's linear trend\")\n",
    "\n",
    "fit1_ = ExponentialSmoothing(air, trend='add', damped=False, seasonal=None).fit(smoothing_level=0.8, smoothing_slope=0.2, optimized=False)\n",
    "fcast1_ = fit1_.forecast(5).rename(\"ExponentialSmoothing = Holt's linear trend\")\n",
    "\n",
    "fit2 = Holt(air, exponential=True , damped=False).fit(smoothing_level=0.8, smoothing_slope=0.2, optimized=False)\n",
    "fcast2 = fit2.forecast(5).rename(\"Exponential trend\")\n",
    "\n",
    "fit2_ = ExponentialSmoothing(air, trend='mul', damped=False, seasonal=None).fit(smoothing_level=0.8, smoothing_slope=0.2, optimized=False)\n",
    "fcast2_ = fit2_.forecast(5).rename(\"ExponentialSmoothing = Exponential trend\")\n",
    "\n",
    "fit3 = Holt(air, exponential=False, damped=True ).fit(smoothing_level=0.8, smoothing_slope=0.2)\n",
    "fcast3 = fit3.forecast(5).rename(\"Additive damped trend\")\n",
    "\n",
    "fit3_ = ExponentialSmoothing(air, trend='add', damped=True, seasonal=None).fit(smoothing_level=0.8, smoothing_slope=0.2)\n",
    "fcast3_ = fit3_.forecast(5).rename(\"ExponentialSmoothing = Additive damped trend\")\n",
    "\n",
    "\n",
    "fit4 = SimpleExpSmoothing(air).fit(smoothing_level=0.9, optimized=False)\n",
    "fcast4 = fit4.forecast(5).rename(\"Simple Exp Smooth\")\n",
    "\n",
    "ax = air.plot(color=\"black\", marker=\"o\", figsize=(12,8))\n",
    "fit1.fittedvalues.plot(ax=ax, color='blue')\n",
    "fcast1.plot(ax=ax, color='blue', marker=\"o\", legend=True)\n",
    "\n",
    "fit1_.fittedvalues.plot(ax=ax, color='pink')\n",
    "fcast1_.plot(ax=ax, color='pink', marker=\"x\", legend=True)\n",
    "\n",
    "fit2.fittedvalues.plot(ax=ax, color='red')\n",
    "fcast2.plot(ax=ax, color='red', marker=\"o\", legend=True)\n",
    "\n",
    "fit2.fittedvalues.plot(ax=ax, color='violet')\n",
    "fcast2.plot(ax=ax, color='violet', marker=\"x\", legend=True)\n",
    "\n",
    "fit3.fittedvalues.plot(ax=ax, color='green')\n",
    "fcast3.plot(ax=ax, color='green', marker=\"o\", legend=True)\n",
    "\n",
    "fit3_.fittedvalues.plot(ax=ax, color='green')\n",
    "fcast3_.plot(ax=ax, color='lime', marker=\"x\", legend=True)\n",
    "\n",
    "# fit4.fittedvalues.plot(ax=ax, color='orange', legend=True)\n",
    "# fcast4.plot(ax=ax, color='orange', marker=\"o\", legend=True)"
   ]
  },
  {
   "cell_type": "code",
   "execution_count": null,
   "metadata": {},
   "outputs": [],
   "source": []
  },
  {
   "cell_type": "code",
   "execution_count": null,
   "metadata": {},
   "outputs": [],
   "source": []
  },
  {
   "cell_type": "code",
   "execution_count": null,
   "metadata": {},
   "outputs": [],
   "source": []
  },
  {
   "cell_type": "code",
   "execution_count": null,
   "metadata": {},
   "outputs": [],
   "source": []
  },
  {
   "cell_type": "code",
   "execution_count": null,
   "metadata": {},
   "outputs": [],
   "source": []
  },
  {
   "cell_type": "code",
   "execution_count": null,
   "metadata": {},
   "outputs": [],
   "source": []
  },
  {
   "cell_type": "code",
   "execution_count": null,
   "metadata": {},
   "outputs": [],
   "source": []
  },
  {
   "cell_type": "code",
   "execution_count": null,
   "metadata": {},
   "outputs": [],
   "source": []
  },
  {
   "cell_type": "code",
   "execution_count": null,
   "metadata": {},
   "outputs": [],
   "source": []
  },
  {
   "cell_type": "code",
   "execution_count": null,
   "metadata": {},
   "outputs": [],
   "source": []
  },
  {
   "cell_type": "code",
   "execution_count": null,
   "metadata": {},
   "outputs": [],
   "source": []
  },
  {
   "cell_type": "code",
   "execution_count": null,
   "metadata": {},
   "outputs": [],
   "source": []
  },
  {
   "cell_type": "code",
   "execution_count": null,
   "metadata": {},
   "outputs": [],
   "source": []
  },
  {
   "cell_type": "code",
   "execution_count": null,
   "metadata": {},
   "outputs": [],
   "source": []
  },
  {
   "cell_type": "code",
   "execution_count": null,
   "metadata": {},
   "outputs": [],
   "source": []
  },
  {
   "cell_type": "code",
   "execution_count": null,
   "metadata": {},
   "outputs": [],
   "source": []
  },
  {
   "cell_type": "code",
   "execution_count": null,
   "metadata": {},
   "outputs": [],
   "source": []
  },
  {
   "cell_type": "code",
   "execution_count": null,
   "metadata": {},
   "outputs": [],
   "source": []
  },
  {
   "cell_type": "code",
   "execution_count": null,
   "metadata": {},
   "outputs": [],
   "source": []
  }
 ],
 "metadata": {
  "kernelspec": {
   "display_name": "ts",
   "language": "python",
   "name": "ts"
  },
  "language_info": {
   "codemirror_mode": {
    "name": "ipython",
    "version": 3
   },
   "file_extension": ".py",
   "mimetype": "text/x-python",
   "name": "python",
   "nbconvert_exporter": "python",
   "pygments_lexer": "ipython3",
   "version": "3.7.3"
  }
 },
 "nbformat": 4,
 "nbformat_minor": 2
}
